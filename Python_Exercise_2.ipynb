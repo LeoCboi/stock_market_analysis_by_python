{
  "nbformat": 4,
  "nbformat_minor": 0,
  "metadata": {
    "colab": {
      "provenance": [],
      "authorship_tag": "ABX9TyO4ohrxuJHNuHf5tiMAV3YO",
      "include_colab_link": true
    },
    "kernelspec": {
      "name": "python3",
      "display_name": "Python 3"
    },
    "language_info": {
      "name": "python"
    }
  },
  "cells": [
    {
      "cell_type": "markdown",
      "metadata": {
        "id": "view-in-github",
        "colab_type": "text"
      },
      "source": [
        "<a href=\"https://colab.research.google.com/github/LeoCboi/stock_market_analysis_by_python/blob/main/Python_Exercise_2.ipynb\" target=\"_parent\"><img src=\"https://colab.research.google.com/assets/colab-badge.svg\" alt=\"Open In Colab\"/></a>"
      ]
    },
    {
      "cell_type": "markdown",
      "source": [
        "#3일차 과제연습"
      ],
      "metadata": {
        "id": "q3FUZILa9z01"
      }
    },
    {
      "cell_type": "markdown",
      "source": [
        "##While 문을 이용한 별 표시 프로그램 작성"
      ],
      "metadata": {
        "id": "gwkaVZ1o_OTv"
      }
    },
    {
      "cell_type": "code",
      "execution_count": 1,
      "metadata": {
        "colab": {
          "base_uri": "https://localhost:8080/"
        },
        "id": "fYL6Zzya9o4k",
        "outputId": "e46ada1e-21ab-4c8c-dd2e-63063d8ce342"
      },
      "outputs": [
        {
          "output_type": "stream",
          "name": "stdout",
          "text": [
            "*\n",
            "**\n",
            "***\n",
            "****\n",
            "*****\n"
          ]
        }
      ],
      "source": [
        "i = 0\n",
        "while True:\n",
        "  # i를 하나씩 증가시킨다.\n",
        "  i = i + 1\n",
        "\n",
        "  # i 개수 만큼 *을 출력한다\n",
        "  print('*' * i)\n",
        "\n",
        "  # i 개수가 5보다 큰지 아닌지 확인, i > 5 이면 반복문 종료\n",
        "  if i >= 5:\n",
        "    break"
      ]
    },
    {
      "cell_type": "code",
      "source": [],
      "metadata": {
        "id": "mqTzrbZDAASY"
      },
      "execution_count": null,
      "outputs": []
    },
    {
      "cell_type": "markdown",
      "source": [
        "##for문을 이용한 A학급의 평균점수 구하기\n",
        "A = [70, 60, 55, 75, 95, 90, 85, 100]"
      ],
      "metadata": {
        "id": "E-jEOP_TAf8d"
      }
    },
    {
      "cell_type": "code",
      "source": [
        "A = [70, 60, 55, 75, 95, 90, 85, 100]\n",
        "sum = 0 #A리스트에 담긴 아이템의 합계를 저장하기 위한 변수\n",
        "\n",
        "for i in A:\n",
        "  sum = sum + i #i는 A의 각 아이템들의 총합을 의미하며, 이를 계속 반복하는 것임.\n",
        "mean = sum / len(A)  #len은 아이템의 갯수, 리스트의 총 길이를 의미함.\n",
        "\n",
        "print(mean)"
      ],
      "metadata": {
        "colab": {
          "base_uri": "https://localhost:8080/"
        },
        "id": "2jFZ7HmmAwYV",
        "outputId": "d3585b32-fe2c-4fe9-dc93-a81b080205dc"
      },
      "execution_count": null,
      "outputs": [
        {
          "output_type": "stream",
          "name": "stdout",
          "text": [
            "78.75\n"
          ]
        }
      ]
    },
    {
      "cell_type": "code",
      "source": [],
      "metadata": {
        "id": "fq6QbrxgAwac"
      },
      "execution_count": null,
      "outputs": []
    }
  ]
}