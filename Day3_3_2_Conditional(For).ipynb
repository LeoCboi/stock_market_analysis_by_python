{
  "nbformat": 4,
  "nbformat_minor": 0,
  "metadata": {
    "colab": {
      "provenance": [],
      "authorship_tag": "ABX9TyPRO/iqNAtHz3tfL5mERGIj",
      "include_colab_link": true
    },
    "kernelspec": {
      "name": "python3",
      "display_name": "Python 3"
    },
    "language_info": {
      "name": "python"
    }
  },
  "cells": [
    {
      "cell_type": "markdown",
      "metadata": {
        "id": "view-in-github",
        "colab_type": "text"
      },
      "source": [
        "<a href=\"https://colab.research.google.com/github/LeoCboi/stock_market_analysis_by_python/blob/main/Day3_3_2_Conditional(For).ipynb\" target=\"_parent\"><img src=\"https://colab.research.google.com/assets/colab-badge.svg\" alt=\"Open In Colab\"/></a>"
      ]
    },
    {
      "cell_type": "markdown",
      "source": [
        "#2.5.1. For"
      ],
      "metadata": {
        "id": "NPdxO_CYEqMW"
      }
    },
    {
      "cell_type": "markdown",
      "source": [
        "<div class=\"alert alert-success\">\n",
        "[문제]  \n",
        "    \n",
        "1학년 2반 학생들의 시험 성적은 다음과 같습니다. \n",
        "    \n",
        "[80, 90, 70, 65, 85, 95, 90, 80, 75, 80]\n",
        "\n",
        "시험 문제 중, 한 문제가 잘못 출제되어 모두 5점씩 추가 점수를 받도록 조치를 취했습니다. \n",
        "변경 후 점수를 출력하세요. \n",
        "\n",
        "</div>"
      ],
      "metadata": {
        "id": "RuuZSfIpE2pT"
      }
    },
    {
      "cell_type": "code",
      "execution_count": 1,
      "metadata": {
        "colab": {
          "base_uri": "https://localhost:8080/"
        },
        "id": "rVUPcCCmEh-A",
        "outputId": "1c25e85b-e61f-4340-a867-ee873434fd19"
      },
      "outputs": [
        {
          "output_type": "stream",
          "name": "stdout",
          "text": [
            "[85, 95, 75, 70, 90, 100, 95, 85, 80, 85]\n"
          ]
        }
      ],
      "source": [
        "scores = [80, 90, 70, 65, 85, 95, 90, 80, 75, 80]\n",
        "new_scores = []\n",
        "\n",
        "for s in scores:\n",
        "    new = s + 5\n",
        "    new_scores.append(new)\n",
        "    \n",
        "print(new_scores)"
      ]
    },
    {
      "cell_type": "code",
      "source": [
        "print(s, type)"
      ],
      "metadata": {
        "colab": {
          "base_uri": "https://localhost:8080/"
        },
        "id": "szwcRh79E6aC",
        "outputId": "282b4b59-d724-40cf-9d46-e7fdf9eba418"
      },
      "execution_count": 2,
      "outputs": [
        {
          "output_type": "stream",
          "name": "stdout",
          "text": [
            "80 <class 'type'>\n"
          ]
        }
      ]
    },
    {
      "cell_type": "code",
      "source": [
        "# s 가 80인 이유?? 그런데! 저전력 IOT AP의 경우 연산처리 양이 많아지면 뻗을 수 있어서, \n",
        "# 이러한 값을 신경쓰는 로직구성이 필요함...\n",
        "\n",
        "scores = [80, 90, 70, 65, 85, 95, 90, 80, 75, 80]\n",
        "new_scores = []\n",
        "\n",
        "for s in scores:\n",
        "    print('s값:{}'.format(s))\n",
        "    new = s + 5\n",
        "    new_scores.append(new)\n",
        "    \n",
        "print(new_scores)\n",
        "print('현재 s값:{}'.format(s))"
      ],
      "metadata": {
        "colab": {
          "base_uri": "https://localhost:8080/"
        },
        "id": "OcOp0JD4FU2g",
        "outputId": "c1bc4511-3cbb-4f3d-c4be-87077a5dfdc3"
      },
      "execution_count": 3,
      "outputs": [
        {
          "output_type": "stream",
          "name": "stdout",
          "text": [
            "s값:80\n",
            "s값:90\n",
            "s값:70\n",
            "s값:65\n",
            "s값:85\n",
            "s값:95\n",
            "s값:90\n",
            "s값:80\n",
            "s값:75\n",
            "s값:80\n",
            "[85, 95, 75, 70, 90, 100, 95, 85, 80, 85]\n",
            "현재 s값:80\n"
          ]
        }
      ]
    },
    {
      "cell_type": "markdown",
      "source": [
        "#2.5.2 컴프리헨션"
      ],
      "metadata": {
        "id": "UIEGrX1zKEVw"
      }
    },
    {
      "cell_type": "markdown",
      "source": [
        "[수행문1 if 조건문 else 수행문2 for 변수 in 리스트]"
      ],
      "metadata": {
        "id": "0JeQ8b3DKLbN"
      }
    },
    {
      "cell_type": "code",
      "source": [
        "scores = [80, 90, 70, 65, 85, 95, 90, 80, 75, 80]\n",
        "new_scores = []\n",
        "\n",
        "for s in scores:\n",
        "  if s < 100:\n",
        "    new = s + 5\n",
        "  else:\n",
        "    new = s\n",
        "  new_scores.append(new)\n",
        "    \n",
        "print(new_scores)"
      ],
      "metadata": {
        "colab": {
          "base_uri": "https://localhost:8080/"
        },
        "id": "ZoZ39jmaInOI",
        "outputId": "1bf80bca-b8d5-4495-ac97-3c392f87d6b8"
      },
      "execution_count": 5,
      "outputs": [
        {
          "output_type": "stream",
          "name": "stdout",
          "text": [
            "[85, 95, 75, 70, 90, 100, 95, 85, 80, 85]\n"
          ]
        }
      ]
    },
    {
      "cell_type": "code",
      "source": [
        "new_score2 = [s + 5 if s < 100 else s for s in scores ]\n",
        "new_score2"
      ],
      "metadata": {
        "colab": {
          "base_uri": "https://localhost:8080/"
        },
        "id": "0DdAKr9VLfTL",
        "outputId": "b9e404ff-556f-4051-d66c-ecbaf2d8c808"
      },
      "execution_count": 6,
      "outputs": [
        {
          "output_type": "execute_result",
          "data": {
            "text/plain": [
              "[85, 95, 75, 70, 90, 100, 95, 85, 80, 85]"
            ]
          },
          "metadata": {},
          "execution_count": 6
        }
      ]
    },
    {
      "cell_type": "markdown",
      "source": [
        "#2.5.3. While"
      ],
      "metadata": {
        "id": "LLbbVElHLo_f"
      }
    },
    {
      "cell_type": "markdown",
      "source": [
        "무한루프를 주의해야하나, 필요할 수는 있음.\n",
        "예) 서버 운용에 있어 중요한 건 계속성이니, While 문을 통해 서버를 계속 운용시켜야 함. "
      ],
      "metadata": {
        "id": "vMpB-9yPLtB-"
      }
    },
    {
      "cell_type": "code",
      "source": [
        "scores = [80, 90, 70, 65, 95, 100, 90, 80, 75, 80]\n",
        "new_score = []\n",
        "index = 0\n",
        "\n",
        "while index < len(scores):\n",
        "    if scores[index] < 100:\n",
        "        new = scores[index] + 5\n",
        "    else:\n",
        "        new = scores[index]\n",
        "    new_score.append(new)\n",
        "    index = index + 1\n",
        "    \n",
        "print(new_score)"
      ],
      "metadata": {
        "colab": {
          "base_uri": "https://localhost:8080/"
        },
        "id": "rL0leYTQLnKu",
        "outputId": "78f666eb-0f56-4dca-e791-d6b2bec00ee0"
      },
      "execution_count": 7,
      "outputs": [
        {
          "output_type": "stream",
          "name": "stdout",
          "text": [
            "[85, 95, 75, 70, 100, 100, 95, 85, 80, 85]\n"
          ]
        }
      ]
    },
    {
      "cell_type": "markdown",
      "source": [
        "#2.5.4 흐름 제어\n"
      ],
      "metadata": {
        "id": "NSm3BaUnMyTx"
      }
    },
    {
      "cell_type": "markdown",
      "source": [
        "<div class=\"alert alert-success\">\n",
        "[문제]\n",
        "    \n",
        "이번에 개발할 프로그램은 ‘스마트폰 사용량 감시 프로그램’입니다. 사용자가 스마트폰 사용 허용시간을 300분으로 지정해 두었습니다. 이 사용자는 스마트폰을 한 번 사용할 때마다 50분씩 사용한다고 할 때, 지정시간에 도달하였을 경우 핸드폰 사용을 중단하도록 하는 프로그램을 만들어 보세요.\n",
        "</div>"
      ],
      "metadata": {
        "id": "O1xZ6E6vM84b"
      }
    },
    {
      "cell_type": "code",
      "source": [
        "time = 0 # 누적 사용 시간\n",
        "while True:\n",
        "    print('현재 사용량: {}'.format(time))\n",
        "    if time >= 300 :\n",
        "        print('[사용 중단]하루 사용 권장량에 도달 또는 초과하였습니다.')\n",
        "        break   # 반복문에서 반복을 중단하기 위한 함수\n",
        "    else:\n",
        "        time = time + 50"
      ],
      "metadata": {
        "colab": {
          "base_uri": "https://localhost:8080/"
        },
        "id": "eZOOvmOiMwT-",
        "outputId": "e4b63ec4-1cdc-40fa-8c5b-d7a07560faea"
      },
      "execution_count": 8,
      "outputs": [
        {
          "output_type": "stream",
          "name": "stdout",
          "text": [
            "현재 사용량: 0\n",
            "현재 사용량: 50\n",
            "현재 사용량: 100\n",
            "현재 사용량: 150\n",
            "현재 사용량: 200\n",
            "현재 사용량: 250\n",
            "현재 사용량: 300\n",
            "[사용 중단]하루 사용 권장량에 도달 또는 초과하였습니다.\n"
          ]
        }
      ]
    },
    {
      "cell_type": "markdown",
      "source": [
        "<div class=\"alert alert-success\">\n",
        "[문제]\n",
        "    \n",
        "‘스마트폰 사용량 감시 프로그램’의 신규 버전에서는 이전 버전에 추가되었던 ‘안전’ 메시지를 보여주는 컨셉을 삭제하기로 결정되었습니다. 기존 작성한 코드에서 메시지를 보여주는 부분이 동작하지 않도록 코드를 수정해보세요.\n",
        "</div>"
      ],
      "metadata": {
        "id": "xCpQUqikNduU"
      }
    },
    {
      "cell_type": "code",
      "source": [
        "time = 0 # 누적 사용 시간\n",
        "while True:\n",
        "    print('현재 사용량: {}'.format(time))\n",
        "    if time < 150:\n",
        "        pass  # 위의 조건을 확인하나 넘어간다는 의미임. \n",
        "              # 이는 실무에서 이전에 사용했던 조건에 대한 레퍼런스를 남기기 위해 사용함. \n",
        "              # 예) 2022.03.04. 이후 수정.\n",
        "    if time >= 300:\n",
        "        print('[사용 중단]하루 사용 권장량에 도달 또는 초과하였습니다.')\n",
        "        break\n",
        "    else:\n",
        "        time = time + 50"
      ],
      "metadata": {
        "id": "HnE1LZ0YNBLQ"
      },
      "execution_count": null,
      "outputs": []
    },
    {
      "cell_type": "markdown",
      "source": [
        "#2.5.5. 반복문 연습문제\n"
      ],
      "metadata": {
        "id": "-LKpT60kOefw"
      }
    },
    {
      "cell_type": "markdown",
      "source": [
        "<div class=\"alert alert-success\">\n",
        "    \n",
        "[문제]\n",
        "    \n",
        "ABC 쇼핑몰에 신규 주문 목록이 아래와 같이 생성되었습니다. \n",
        "\n",
        "shopping_dict = {'주문번호': 123,   \n",
        "                 '주문자': '김**',   \n",
        "                 '주소': '서울 마포구 상암동',  \n",
        "                 '주문항목': ['맛좋은 김치', '맛좋은 라면', '시원한 물']}  \n",
        "\n",
        "for문을 사용해서 shopping_dict를 출력해보세요.  \n",
        "\n",
        "</div>"
      ],
      "metadata": {
        "id": "RvlRi3JOOhEj"
      }
    },
    {
      "cell_type": "code",
      "source": [
        "shopping_dict = {'주문번호': 123, \n",
        "                 '주문자': '김**', \n",
        "                 '주소': '서울 마포구 상암동',\n",
        "                 '주문항목': ['맛좋은 김치', '맛좋은 라면', '시원한 물']}\n",
        "\n",
        "for item in shopping_dict:\n",
        "    print(item)"
      ],
      "metadata": {
        "colab": {
          "base_uri": "https://localhost:8080/"
        },
        "id": "ZZGRDIFBOiRy",
        "outputId": "1588fb32-4b3d-4527-da61-c72408eb7502"
      },
      "execution_count": 9,
      "outputs": [
        {
          "output_type": "stream",
          "name": "stdout",
          "text": [
            "주문번호\n",
            "주문자\n",
            "주소\n",
            "주문항목\n"
          ]
        }
      ]
    },
    {
      "cell_type": "code",
      "source": [],
      "metadata": {
        "id": "pOrrsTPROjVX"
      },
      "execution_count": null,
      "outputs": []
    }
  ]
}