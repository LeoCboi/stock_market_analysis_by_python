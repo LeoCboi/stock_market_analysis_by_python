{
  "nbformat": 4,
  "nbformat_minor": 0,
  "metadata": {
    "colab": {
      "provenance": [],
      "toc_visible": true,
      "authorship_tag": "ABX9TyOhfiF3xa0c5pWOTAoExA1b",
      "include_colab_link": true
    },
    "kernelspec": {
      "name": "python3",
      "display_name": "Python 3"
    },
    "language_info": {
      "name": "python"
    }
  },
  "cells": [
    {
      "cell_type": "markdown",
      "metadata": {
        "id": "view-in-github",
        "colab_type": "text"
      },
      "source": [
        "<a href=\"https://colab.research.google.com/github/LeoCboi/stock_market_analysis_by_python/blob/main/Day2_01_Variable_Practice.ipynb\" target=\"_parent\"><img src=\"https://colab.research.google.com/assets/colab-badge.svg\" alt=\"Open In Colab\"/></a>"
      ]
    },
    {
      "cell_type": "markdown",
      "source": [
        "# 02_01_01 변수란?\n",
        "\n",
        "변수는 데이터를 담을 때 선언하는 태그(꼬리표)다."
      ],
      "metadata": {
        "id": "YQFCrP9Au145"
      }
    },
    {
      "cell_type": "code",
      "execution_count": 1,
      "metadata": {
        "colab": {
          "base_uri": "https://localhost:8080/"
        },
        "id": "NvyY2D4fugao",
        "outputId": "cc2596d9-557d-4bb6-90e6-8659fdb41e32"
      },
      "outputs": [
        {
          "output_type": "execute_result",
          "data": {
            "text/plain": [
              "5"
            ]
          },
          "metadata": {},
          "execution_count": 1
        }
      ],
      "source": [
        "a = 5 # a라는 바구니에 정수 5를 넣는다.\n",
        "a"
      ]
    },
    {
      "cell_type": "code",
      "source": [
        "b = 3\n",
        "b"
      ],
      "metadata": {
        "colab": {
          "base_uri": "https://localhost:8080/"
        },
        "id": "868KpLL7xstR",
        "outputId": "5b954a35-4863-4c31-c7d7-0404a8a0ace6"
      },
      "execution_count": 2,
      "outputs": [
        {
          "output_type": "execute_result",
          "data": {
            "text/plain": [
              "3"
            ]
          },
          "metadata": {},
          "execution_count": 2
        }
      ]
    },
    {
      "cell_type": "code",
      "source": [
        "a + b #a와 b에 있는 정수를 더하도록 명령하면 더한 값을 출력하여 준다. "
      ],
      "metadata": {
        "colab": {
          "base_uri": "https://localhost:8080/"
        },
        "id": "bNLva97exxMK",
        "outputId": "5f37dc2a-333d-4aa5-ea31-e06525c2b0b9"
      },
      "execution_count": 4,
      "outputs": [
        {
          "output_type": "execute_result",
          "data": {
            "text/plain": [
              "8"
            ]
          },
          "metadata": {},
          "execution_count": 4
        }
      ]
    },
    {
      "cell_type": "code",
      "source": [
        "d = '파이썬 강의'\n",
        "d"
      ],
      "metadata": {
        "colab": {
          "base_uri": "https://localhost:8080/",
          "height": 36
        },
        "id": "9sgi4KaSx1VP",
        "outputId": "1f035a77-5ed7-4ba7-8ba3-747c0a314573"
      },
      "execution_count": 6,
      "outputs": [
        {
          "output_type": "execute_result",
          "data": {
            "text/plain": [
              "'파이썬 강의'"
            ],
            "application/vnd.google.colaboratory.intrinsic+json": {
              "type": "string"
            }
          },
          "metadata": {},
          "execution_count": 6
        }
      ]
    },
    {
      "cell_type": "code",
      "source": [
        "print(d) # 단순히 D를 부르는 것보다 Print(d) 차이가 있음."
      ],
      "metadata": {
        "colab": {
          "base_uri": "https://localhost:8080/"
        },
        "id": "oznr2NdbyVXt",
        "outputId": "fb23f141-4e83-4253-ee7a-e4306d7055ce"
      },
      "execution_count": 7,
      "outputs": [
        {
          "output_type": "stream",
          "name": "stdout",
          "text": [
            "파이썬 강의\n"
          ]
        }
      ]
    },
    {
      "cell_type": "markdown",
      "source": [
        "# 잘못된 변수명\n",
        "\n",
        "\n",
        "*   숫자로 시작하는 변수\n",
        "*   공백이 포함된된 변수\n",
        "*   기호가 포함된 변수(밑줄 제외)\n",
        "*   예약어"
      ],
      "metadata": {
        "id": "JTzI-ZmNyvW2"
      }
    },
    {
      "cell_type": "code",
      "source": [
        "# 숫자로 시작하는 변수\n",
        "2vr = '변수'\n",
        "2vr\n",
        "#아래의 SyntaxError를 통해 오류가 발생된 위치와 어떤 것이 잘못된 것을 확인할 수 있음."
      ],
      "metadata": {
        "colab": {
          "base_uri": "https://localhost:8080/",
          "height": 138
        },
        "id": "dyUVvE9XyvGA",
        "outputId": "a759bcb3-06bf-4de4-a862-0fbb6fa5711e"
      },
      "execution_count": 9,
      "outputs": [
        {
          "output_type": "error",
          "ename": "SyntaxError",
          "evalue": "ignored",
          "traceback": [
            "\u001b[0;36m  File \u001b[0;32m\"<ipython-input-9-5ce8d38d9e15>\"\u001b[0;36m, line \u001b[0;32m2\u001b[0m\n\u001b[0;31m    2vr = '변수'\u001b[0m\n\u001b[0m     ^\u001b[0m\n\u001b[0;31mSyntaxError\u001b[0m\u001b[0;31m:\u001b[0m invalid syntax\n"
          ]
        }
      ]
    },
    {
      "cell_type": "code",
      "source": [
        "# 공백이 포함된 변수\n",
        "Happy var = '변수'\n",
        "Happy var"
      ],
      "metadata": {
        "colab": {
          "base_uri": "https://localhost:8080/",
          "height": 138
        },
        "id": "176oUTYLyZKx",
        "outputId": "bcab409d-da2d-4984-aa4e-0dda67305dba"
      },
      "execution_count": 12,
      "outputs": [
        {
          "output_type": "error",
          "ename": "SyntaxError",
          "evalue": "ignored",
          "traceback": [
            "\u001b[0;36m  File \u001b[0;32m\"<ipython-input-12-2dd9f551157f>\"\u001b[0;36m, line \u001b[0;32m2\u001b[0m\n\u001b[0;31m    Happy var = '변수'\u001b[0m\n\u001b[0m          ^\u001b[0m\n\u001b[0;31mSyntaxError\u001b[0m\u001b[0;31m:\u001b[0m invalid syntax\n"
          ]
        }
      ]
    },
    {
      "cell_type": "code",
      "source": [
        "Happy_var = '쌍수'\n",
        "Happy_var"
      ],
      "metadata": {
        "colab": {
          "base_uri": "https://localhost:8080/",
          "height": 36
        },
        "id": "JEbOsqR6zZZQ",
        "outputId": "d1afab4e-0bcf-4cd2-f37c-2f807103c807"
      },
      "execution_count": 15,
      "outputs": [
        {
          "output_type": "execute_result",
          "data": {
            "text/plain": [
              "'쌍수'"
            ],
            "application/vnd.google.colaboratory.intrinsic+json": {
              "type": "string"
            }
          },
          "metadata": {},
          "execution_count": 15
        }
      ]
    },
    {
      "cell_type": "code",
      "source": [
        "#Print 문법 사용했을 경우가 사용하지 않았을 경우의 차이이\n",
        "print(Happy_var)"
      ],
      "metadata": {
        "colab": {
          "base_uri": "https://localhost:8080/"
        },
        "id": "Ljok80-jziHw",
        "outputId": "fe8951ee-1181-44a0-c4c6-144137baf9cd"
      },
      "execution_count": 16,
      "outputs": [
        {
          "output_type": "stream",
          "name": "stdout",
          "text": [
            "쌍수\n"
          ]
        }
      ]
    },
    {
      "cell_type": "code",
      "source": [
        "#Camel Case    /   집단과 일할 때 중요한 양식 1\n",
        "happyVariable = '행복'\n",
        "#Snake Case     /   집단과 일할 때 중요한 양식 2\n",
        "happy_varibale = '행복'\n",
        "# Hungarian notation   /  변수의 특징을 선언\n",
        "bHappyVariable = True\n"
      ],
      "metadata": {
        "id": "fshBZFhzznAo"
      },
      "execution_count": 17,
      "outputs": []
    },
    {
      "cell_type": "code",
      "source": [],
      "metadata": {
        "id": "M8Bv0Yn20OGI"
      },
      "execution_count": null,
      "outputs": []
    },
    {
      "cell_type": "markdown",
      "source": [
        "# 새 섹션"
      ],
      "metadata": {
        "id": "QaoVtewp07CF"
      }
    }
  ]
}