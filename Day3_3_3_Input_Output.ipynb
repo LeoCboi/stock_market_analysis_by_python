{
  "nbformat": 4,
  "nbformat_minor": 0,
  "metadata": {
    "colab": {
      "provenance": [],
      "authorship_tag": "ABX9TyO1whVrMxjHDXNAc9Z8cWw1",
      "include_colab_link": true
    },
    "kernelspec": {
      "name": "python3",
      "display_name": "Python 3"
    },
    "language_info": {
      "name": "python"
    }
  },
  "cells": [
    {
      "cell_type": "markdown",
      "metadata": {
        "id": "view-in-github",
        "colab_type": "text"
      },
      "source": [
        "<a href=\"https://colab.research.google.com/github/LeoCboi/stock_market_analysis_by_python/blob/main/Day3_3_3_Input_Output.ipynb\" target=\"_parent\"><img src=\"https://colab.research.google.com/assets/colab-badge.svg\" alt=\"Open In Colab\"/></a>"
      ]
    },
    {
      "cell_type": "markdown",
      "source": [
        "# 2.6.1 시스템 입력"
      ],
      "metadata": {
        "id": "DfOJbIq6RXB6"
      }
    },
    {
      "cell_type": "code",
      "execution_count": 1,
      "metadata": {
        "colab": {
          "base_uri": "https://localhost:8080/",
          "height": 54
        },
        "id": "BSOWq44hQZlS",
        "outputId": "604ea277-ce42-4764-d78c-c6c1b7746455"
      },
      "outputs": [
        {
          "name": "stdout",
          "output_type": "stream",
          "text": [
            "주가분석과정\n"
          ]
        },
        {
          "output_type": "execute_result",
          "data": {
            "text/plain": [
              "'주가분석과정'"
            ],
            "application/vnd.google.colaboratory.intrinsic+json": {
              "type": "string"
            }
          },
          "metadata": {},
          "execution_count": 1
        }
      ],
      "source": [
        "input()"
      ]
    },
    {
      "cell_type": "markdown",
      "source": [
        "<div class=\"alert alert-success\">\n",
        "[문제]\n",
        "사용자로부터 이름을 입력 받고, 이름과 함께 인사말을 출력하세요.  \n",
        "    \n",
        "    \n",
        "예:\n",
        "- 이름을 입력하세요: 홍길동  \n",
        "- 홍길동님, 안녕하세요  \n",
        "\n",
        "</div>"
      ],
      "metadata": {
        "id": "bRnNtNLNRllM"
      }
    },
    {
      "cell_type": "code",
      "source": [
        "name = input('이름을 입력하세요')\n",
        "print(name + \"님, 안녕하세요\")"
      ],
      "metadata": {
        "colab": {
          "base_uri": "https://localhost:8080/"
        },
        "id": "wOEbzAIiRcQ9",
        "outputId": "0e35891a-039b-4bd9-904f-1fbb02652ba0"
      },
      "execution_count": 2,
      "outputs": [
        {
          "output_type": "stream",
          "name": "stdout",
          "text": [
            "이름을 입력하세요최혜수\n",
            "최혜수님, 안녕하세요\n"
          ]
        }
      ]
    },
    {
      "cell_type": "markdown",
      "source": [
        "<div class=\"alert alert-success\">\n",
        "[문제]\n",
        "사용자로부터 키를 입력 받아서 권장 체중을 출력하는 프로그램을 작성하세요.\n",
        "    \n",
        "권장 체중은 다음과 같이 계산합니다.\n",
        "\n",
        "    권장 체중 = (키 – 100) * 0.9\n",
        "\n",
        "\n",
        "</div>"
      ],
      "metadata": {
        "id": "mLW1X3EwRyKn"
      }
    },
    {
      "cell_type": "markdown",
      "source": [
        "## 자료변환의 주의사항"
      ],
      "metadata": {
        "id": "pXWL2OMhS4hz"
      }
    },
    {
      "cell_type": "code",
      "source": [
        "height = input(\"키를 입력하세요\")\n",
        "# weight = (height - 100) * 0.9  # 이 방식은 str 형태이기에 - 연산을 할 수가 없음.\n",
        "weight = (float(height) - 100) * 0.9 # 이 방식은 Print() 단계에서 String이 아니기에 출력이 안됨.\n",
        "print(\"권장 체중은\" + str(weight) + \"kg 입니다\") # weight가 float 형태이기에 string으로 자료변환되어야함."
      ],
      "metadata": {
        "colab": {
          "base_uri": "https://localhost:8080/"
        },
        "id": "uXTyqNlhRscK",
        "outputId": "44fcece0-3738-4933-963e-fac5fedc19fd"
      },
      "execution_count": 5,
      "outputs": [
        {
          "output_type": "stream",
          "name": "stdout",
          "text": [
            "키를 입력하세요165\n",
            "권장 체중은58.5kg 입니다\n"
          ]
        }
      ]
    },
    {
      "cell_type": "markdown",
      "source": [
        "#2.6.2 시스템 출력\n"
      ],
      "metadata": {
        "id": "_2ZWxuADS0-x"
      }
    },
    {
      "cell_type": "code",
      "source": [
        "print(\"apple\", \"peach\", \"mango\")"
      ],
      "metadata": {
        "colab": {
          "base_uri": "https://localhost:8080/"
        },
        "id": "9bTecgMwSx55",
        "outputId": "4aec53ef-d8c2-4e6d-ae02-2277065e121f"
      },
      "execution_count": 11,
      "outputs": [
        {
          "output_type": "stream",
          "name": "stdout",
          "text": [
            "apple peach mango\n"
          ]
        }
      ]
    },
    {
      "cell_type": "code",
      "source": [
        "print(\"apple\", \"peach\", \"mango\", sep =\",\") #sep은 , 를 넣어 구분할 수 있도록 하는 함수임."
      ],
      "metadata": {
        "colab": {
          "base_uri": "https://localhost:8080/"
        },
        "id": "H92MFVlNSAWW",
        "outputId": "f27751bb-47b2-4abf-c49e-fe86565e7f7e"
      },
      "execution_count": 6,
      "outputs": [
        {
          "output_type": "stream",
          "name": "stdout",
          "text": [
            "apple,peach,mango\n"
          ]
        }
      ]
    },
    {
      "cell_type": "code",
      "source": [
        "print(\"원숭이 엉덩이는 빨개 \")\n",
        "print(\"빨가면 사과\")"
      ],
      "metadata": {
        "colab": {
          "base_uri": "https://localhost:8080/"
        },
        "id": "Wyq62Ek7TIsk",
        "outputId": "9dd9757a-045b-4bff-9f23-76676039eabb"
      },
      "execution_count": 7,
      "outputs": [
        {
          "output_type": "stream",
          "name": "stdout",
          "text": [
            "원숭이 엉덩이는 빨개 \n",
            "빨가면 사과\n"
          ]
        }
      ]
    },
    {
      "cell_type": "code",
      "source": [
        "print(\"원숭이 엉덩이는 빨개 \", end=\"\") #end 공백은 이어서 쓰게 하는 함수임.\n",
        "print(\"빨가면 사과\")"
      ],
      "metadata": {
        "colab": {
          "base_uri": "https://localhost:8080/"
        },
        "id": "jH9aO8Y2TJ0E",
        "outputId": "dab3dc9d-c6c2-422c-81ba-6c61b445957e"
      },
      "execution_count": 8,
      "outputs": [
        {
          "output_type": "stream",
          "name": "stdout",
          "text": [
            "원숭이 엉덩이는 빨개 빨가면 사과\n"
          ]
        }
      ]
    },
    {
      "cell_type": "code",
      "source": [
        "print(\"나는\" + \" 빵을 \" + \"먹고싶다\")"
      ],
      "metadata": {
        "colab": {
          "base_uri": "https://localhost:8080/"
        },
        "id": "-c1MtkomTKdk",
        "outputId": "b0001c01-d109-413d-c4ed-1813eba6fcde"
      },
      "execution_count": 9,
      "outputs": [
        {
          "output_type": "stream",
          "name": "stdout",
          "text": [
            "나는 빵을 먹고싶다\n"
          ]
        }
      ]
    },
    {
      "cell_type": "code",
      "source": [
        "print(\"산토끼 토끼야\\n어디를 가느냐\\n깡총깡총 뛰어서\\n어디를 가느냐\")"
      ],
      "metadata": {
        "colab": {
          "base_uri": "https://localhost:8080/"
        },
        "id": "vkf7tk9JTLZ8",
        "outputId": "102bf31a-962c-4052-d67b-06641514a38c"
      },
      "execution_count": 10,
      "outputs": [
        {
          "output_type": "stream",
          "name": "stdout",
          "text": [
            "산토끼 토끼야\n",
            "어디를 가느냐\n",
            "깡총깡총 뛰어서\n",
            "어디를 가느냐\n"
          ]
        }
      ]
    },
    {
      "cell_type": "markdown",
      "source": [
        "##포맷스트링"
      ],
      "metadata": {
        "id": "29f4tYIwTYE8"
      }
    },
    {
      "cell_type": "code",
      "source": [
        "food = \"치킨\"\n",
        "text = \"나는 {}을 먹고 싶다\"\n",
        "print(text.format(food))"
      ],
      "metadata": {
        "colab": {
          "base_uri": "https://localhost:8080/"
        },
        "id": "AkIKunVcTZPM",
        "outputId": "1c544245-e37a-4c90-ae9e-4584b523a96e"
      },
      "execution_count": 12,
      "outputs": [
        {
          "output_type": "stream",
          "name": "stdout",
          "text": [
            "나는 치킨을 먹고 싶다\n"
          ]
        }
      ]
    },
    {
      "cell_type": "code",
      "source": [
        "print(\"나는 {}을 먹고 싶다\".format(\"치킨\"))"
      ],
      "metadata": {
        "colab": {
          "base_uri": "https://localhost:8080/"
        },
        "id": "dC-BiT2zTMZs",
        "outputId": "ebb09610-59bb-4fad-bc4a-dddf6d95e94d"
      },
      "execution_count": 13,
      "outputs": [
        {
          "output_type": "stream",
          "name": "stdout",
          "text": [
            "나는 치킨을 먹고 싶다\n"
          ]
        }
      ]
    },
    {
      "cell_type": "code",
      "source": [
        "print(\"나는 {0}, {1}을 먹고 싶다. 우리집엔 {1}이 배달되지 않아 슬프다.\".format(\"피자\", \"치킨\"))"
      ],
      "metadata": {
        "colab": {
          "base_uri": "https://localhost:8080/"
        },
        "id": "sT8moJ96Ta-b",
        "outputId": "b41dd7a4-745b-4847-acf4-cc26ad063105"
      },
      "execution_count": 14,
      "outputs": [
        {
          "output_type": "stream",
          "name": "stdout",
          "text": [
            "나는 피자, 치킨을 먹고 싶다. 우리집엔 치킨이 배달되지 않아 슬프다.\n"
          ]
        }
      ]
    },
    {
      "cell_type": "code",
      "source": [
        "text = \"{name}님, 반갑습니다. 적립금은 {money}원 입니다..\"\n",
        "print(text.format(name = \"홍길동\", money = 500))"
      ],
      "metadata": {
        "colab": {
          "base_uri": "https://localhost:8080/"
        },
        "id": "C07-K5rOTb7D",
        "outputId": "3ac044ab-87d3-41fd-a7aa-dbdc1a620780"
      },
      "execution_count": 15,
      "outputs": [
        {
          "output_type": "stream",
          "name": "stdout",
          "text": [
            "홍길동님, 반갑습니다. 적립금은 500원 입니다..\n"
          ]
        }
      ]
    },
    {
      "cell_type": "code",
      "source": [
        "food = \"치킨\"\n",
        "print(\"나는 %s을 먹고 싶다.\" %food)"
      ],
      "metadata": {
        "colab": {
          "base_uri": "https://localhost:8080/"
        },
        "id": "gPKraku_TdBr",
        "outputId": "1f5b5e0c-4f32-4e06-e5f2-a434fb11ff6d"
      },
      "execution_count": 16,
      "outputs": [
        {
          "output_type": "stream",
          "name": "stdout",
          "text": [
            "나는 치킨을 먹고 싶다.\n"
          ]
        }
      ]
    },
    {
      "cell_type": "code",
      "source": [
        "print(\"{:.2f}% 확신합니다.\".format(95.1234567)) #소수점 아래 몇 째자리까지만 표시하도록 하는 것이 {:.2f} 이다."
      ],
      "metadata": {
        "colab": {
          "base_uri": "https://localhost:8080/"
        },
        "id": "uhWDSG-FTedc",
        "outputId": "11ccd079-dcbd-4732-cdcc-d2f1066eed8f"
      },
      "execution_count": 17,
      "outputs": [
        {
          "output_type": "stream",
          "name": "stdout",
          "text": [
            "95.12% 확신합니다.\n"
          ]
        }
      ]
    },
    {
      "cell_type": "code",
      "source": [
        "print(\"한 달 휴대폰 요금은 {:,}원 입니다.\".format(100000)) "
      ],
      "metadata": {
        "colab": {
          "base_uri": "https://localhost:8080/"
        },
        "id": "YPnWgY2pTfdT",
        "outputId": "265ca1ea-da3d-46bd-f96d-cf761d4902cb"
      },
      "execution_count": 18,
      "outputs": [
        {
          "output_type": "stream",
          "name": "stdout",
          "text": [
            "한 달 휴대폰 요금은 100,000원 입니다.\n"
          ]
        }
      ]
    },
    {
      "cell_type": "markdown",
      "source": [
        "#2.6.3. 파일입출력"
      ],
      "metadata": {
        "id": "cHWqNHTDTqA0"
      }
    },
    {
      "cell_type": "code",
      "source": [
        "f = open(\"abc.txt\", \"w\") # 쓰기모드로 파일 열기  \n",
        "                          # 열 때는 항상 어떤 모드(읽기, 쓰기)로 열 것인지 결정해야함.\n",
        "f.write(\"A B C D E F G \")\n",
        "f.close()"
      ],
      "metadata": {
        "id": "YIVv0n-yTnAT"
      },
      "execution_count": 19,
      "outputs": []
    },
    {
      "cell_type": "code",
      "source": [
        "f = open(\"abc.txt\", \"r\")\n",
        "print(f.read())\n",
        "f.close() #열고서는 항상 닫기를 해야한다."
      ],
      "metadata": {
        "colab": {
          "base_uri": "https://localhost:8080/"
        },
        "id": "AkwRdciZT3gk",
        "outputId": "e2d8c055-e201-422d-a5a7-bbe27bb06a94"
      },
      "execution_count": 20,
      "outputs": [
        {
          "output_type": "stream",
          "name": "stdout",
          "text": [
            "A B C D E F G \n"
          ]
        }
      ]
    },
    {
      "cell_type": "code",
      "source": [
        "with open(\"일기.txt\", \"w\") as f:\n",
        "    f.write(\"2020년 3월 12일 금요일\\n\")\n",
        "\n",
        "with open(\"일기.txt\", \"a\") as f:\n",
        "    f.write(\"날씨 맑음\")\n",
        "\n",
        "with open(\"일기.txt\", \"r\") as f:\n",
        "    print(f.read())"
      ],
      "metadata": {
        "colab": {
          "base_uri": "https://localhost:8080/"
        },
        "id": "SS6vcJ33T5ic",
        "outputId": "64bf6eef-8bea-493c-ba8f-1f23c38dadba"
      },
      "execution_count": 21,
      "outputs": [
        {
          "output_type": "stream",
          "name": "stdout",
          "text": [
            "2020년 3월 12일 금요일\n",
            "날씨 맑음\n"
          ]
        }
      ]
    },
    {
      "cell_type": "code",
      "source": [
        "#파일 삭제\n",
        "\n",
        "import os\n",
        "\n",
        "fileName = \"abc.txt\"\n",
        "if os.path.exists(fileName):\n",
        "    os.remove(fileName)\n",
        "    print(\"{}파일을 삭제하였습니다.\".format(fileName))\n",
        "else:\n",
        "    print(\"{}파일이 존재하지 않습니다.\".format(fileName))"
      ],
      "metadata": {
        "colab": {
          "base_uri": "https://localhost:8080/"
        },
        "id": "5twt9PG2UeuL",
        "outputId": "2c9c15ff-c1bc-46ec-f9d0-3e8d9bef79f1"
      },
      "execution_count": 22,
      "outputs": [
        {
          "output_type": "stream",
          "name": "stdout",
          "text": [
            "abc.txt파일을 삭제하였습니다.\n"
          ]
        }
      ]
    },
    {
      "cell_type": "code",
      "source": [],
      "metadata": {
        "id": "lIQauLoPUjbL"
      },
      "execution_count": null,
      "outputs": []
    }
  ]
}