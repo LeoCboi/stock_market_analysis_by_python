{
  "nbformat": 4,
  "nbformat_minor": 0,
  "metadata": {
    "colab": {
      "provenance": [],
      "toc_visible": true,
      "authorship_tag": "ABX9TyOnBbR6bOss+kzfxrn4do+l",
      "include_colab_link": true
    },
    "kernelspec": {
      "name": "python3",
      "display_name": "Python 3"
    },
    "language_info": {
      "name": "python"
    }
  },
  "cells": [
    {
      "cell_type": "markdown",
      "metadata": {
        "id": "view-in-github",
        "colab_type": "text"
      },
      "source": [
        "<a href=\"https://colab.research.google.com/github/LeoCboi/stock_market_analysis_by_python/blob/main/Day2_02_01_Data_Type.ipynb\" target=\"_parent\"><img src=\"https://colab.research.google.com/assets/colab-badge.svg\" alt=\"Open In Colab\"/></a>"
      ]
    },
    {
      "cell_type": "markdown",
      "source": [
        "# 2.2.1 기본 데이터 타입\n",
        "Type(변수이름)\n",
        "\n",
        "*   변수의 자료형을 반환하는 함수\n",
        "\n",
        "파이썬의 기본 자료형\n",
        "\n",
        "\n",
        "*   숫자(Numberic): 정수(Integer), 실수(Float)\n",
        "*   불리언(Boolean): True, False\n",
        "*   문자형(String)\n",
        "\n",
        "\n",
        "\n",
        "\n",
        "\n"
      ],
      "metadata": {
        "id": "9IxpfJfB2hjb"
      }
    },
    {
      "cell_type": "markdown",
      "source": [
        "\n",
        "\n",
        "# 2.2.1.1  숫자형(Numeric)\n",
        "\n",
        "\n",
        "정수(Int), 실수(Float)\n",
        "\n"
      ],
      "metadata": {
        "id": "tHOVWhGw2_-e"
      }
    },
    {
      "cell_type": "code",
      "execution_count": null,
      "metadata": {
        "id": "gBAh7tny2TuR"
      },
      "outputs": [],
      "source": [
        "\n"
      ]
    },
    {
      "cell_type": "markdown",
      "source": [
        "# 2.2.1.2 불리언(Boolean)\n",
        "참(True) / 거짓(False)"
      ],
      "metadata": {
        "id": "lpSPYj9_3Yb_"
      }
    },
    {
      "cell_type": "code",
      "source": [
        "a = 100 > 50\n",
        "a"
      ],
      "metadata": {
        "colab": {
          "base_uri": "https://localhost:8080/"
        },
        "id": "fEX7y81Q3Xng",
        "outputId": "8108ac8b-42dd-408a-ffb0-b72d8e0989f5"
      },
      "execution_count": 4,
      "outputs": [
        {
          "output_type": "execute_result",
          "data": {
            "text/plain": [
              "True"
            ]
          },
          "metadata": {},
          "execution_count": 4
        }
      ]
    },
    {
      "cell_type": "code",
      "source": [
        "b = 100 < 50\n",
        "b"
      ],
      "metadata": {
        "colab": {
          "base_uri": "https://localhost:8080/"
        },
        "id": "UYhPl1S4361l",
        "outputId": "ab6907ff-1f00-48d9-abdb-8075e6345892"
      },
      "execution_count": 5,
      "outputs": [
        {
          "output_type": "execute_result",
          "data": {
            "text/plain": [
              "False"
            ]
          },
          "metadata": {},
          "execution_count": 5
        }
      ]
    },
    {
      "cell_type": "code",
      "source": [
        "c = 100 == 50 # 등호 두 개(==)는 좌측의 값과 우측의 값이 같은지 아닌지를 판단하는 조건식\n",
        "c"
      ],
      "metadata": {
        "colab": {
          "base_uri": "https://localhost:8080/"
        },
        "id": "RB5hCLbe36qr",
        "outputId": "1f3517fa-01ad-4dd8-8fb2-42aa599027df"
      },
      "execution_count": 6,
      "outputs": [
        {
          "output_type": "execute_result",
          "data": {
            "text/plain": [
              "False"
            ]
          },
          "metadata": {},
          "execution_count": 6
        }
      ]
    },
    {
      "cell_type": "code",
      "source": [
        "type(c)"
      ],
      "metadata": {
        "colab": {
          "base_uri": "https://localhost:8080/"
        },
        "id": "nGixKqJ13817",
        "outputId": "8b9c4a0c-b192-40e6-81f0-d5cafd351e9d"
      },
      "execution_count": 7,
      "outputs": [
        {
          "output_type": "execute_result",
          "data": {
            "text/plain": [
              "bool"
            ]
          },
          "metadata": {},
          "execution_count": 7
        }
      ]
    },
    {
      "cell_type": "markdown",
      "source": [
        "# 2.2.1.3 문자형(String, str)"
      ],
      "metadata": {
        "id": "1MT4Im9q3pFZ"
      }
    },
    {
      "cell_type": "code",
      "source": [
        "# 따옴표로 감싼 문자, 'Hello'와 \"Hello\"는 동일\n",
        "a = 'Hello'\n",
        "type(a)"
      ],
      "metadata": {
        "colab": {
          "base_uri": "https://localhost:8080/"
        },
        "id": "5uT-lkUm30X5",
        "outputId": "8f2bef16-b9bf-4bde-f47e-0188d1749f65"
      },
      "execution_count": 1,
      "outputs": [
        {
          "output_type": "execute_result",
          "data": {
            "text/plain": [
              "str"
            ]
          },
          "metadata": {},
          "execution_count": 1
        }
      ]
    },
    {
      "cell_type": "code",
      "source": [
        "# 따옴표로 감싼 숫자는 문자\n",
        "b = '123'\n",
        "type(b)"
      ],
      "metadata": {
        "colab": {
          "base_uri": "https://localhost:8080/"
        },
        "id": "1tzpAoTi3vYn",
        "outputId": "953d7c82-113a-4410-bd9b-287013427ecc"
      },
      "execution_count": 2,
      "outputs": [
        {
          "output_type": "execute_result",
          "data": {
            "text/plain": [
              "str"
            ]
          },
          "metadata": {},
          "execution_count": 2
        }
      ]
    },
    {
      "cell_type": "code",
      "source": [
        "# 띄어쓰기가 포함된 문자열\n",
        "c = \"How are you?\"\n",
        "type(c)"
      ],
      "metadata": {
        "colab": {
          "base_uri": "https://localhost:8080/"
        },
        "id": "BDecX-hN33O3",
        "outputId": "a038f381-6497-41c0-9967-b067fd4121ff"
      },
      "execution_count": 3,
      "outputs": [
        {
          "output_type": "execute_result",
          "data": {
            "text/plain": [
              "str"
            ]
          },
          "metadata": {},
          "execution_count": 3
        }
      ]
    },
    {
      "cell_type": "markdown",
      "source": [
        "여러줄로 어루어진 문자열은 따옴표 세 개를 연달아 이어서 선언해야함. 아래는 예시임."
      ],
      "metadata": {
        "id": "rLXPb-8E4AMp"
      }
    },
    {
      "cell_type": "code",
      "source": [
        "x = \"Twinkle, twinkle, little star,\n",
        "How I wonder what you are!\n",
        "Up above the world so high,\n",
        "Like a diamond in the sky.\"\n",
        "x"
      ],
      "metadata": {
        "colab": {
          "base_uri": "https://localhost:8080/",
          "height": 138
        },
        "id": "2vE6QVkc34Lf",
        "outputId": "e3b4fe77-9326-40f3-869e-2e68eaae04e1"
      },
      "execution_count": 8,
      "outputs": [
        {
          "output_type": "error",
          "ename": "SyntaxError",
          "evalue": "ignored",
          "traceback": [
            "\u001b[0;36m  File \u001b[0;32m\"<ipython-input-8-1ed65e62d316>\"\u001b[0;36m, line \u001b[0;32m1\u001b[0m\n\u001b[0;31m    x = \"Twinkle, twinkle, little star,\u001b[0m\n\u001b[0m                                       ^\u001b[0m\n\u001b[0;31mSyntaxError\u001b[0m\u001b[0;31m:\u001b[0m EOL while scanning string literal\n"
          ]
        }
      ]
    },
    {
      "cell_type": "code",
      "source": [
        "x = \"\"\"Twinkle, twinkle, little star,\n",
        "How I wonder what you are!\n",
        "Up above the world so high,\n",
        "Like a diamond in the sky.\"\"\"\n",
        "x"
      ],
      "metadata": {
        "colab": {
          "base_uri": "https://localhost:8080/",
          "height": 54
        },
        "id": "Lv9Tw4S74HGX",
        "outputId": "39054d82-d866-42fd-a673-edbb055b2ada"
      },
      "execution_count": 9,
      "outputs": [
        {
          "output_type": "execute_result",
          "data": {
            "text/plain": [
              "'Twinkle, twinkle, little star,\\nHow I wonder what you are!\\nUp above the world so high,\\nLike a diamond in the sky.'"
            ],
            "application/vnd.google.colaboratory.intrinsic+json": {
              "type": "string"
            }
          },
          "metadata": {},
          "execution_count": 9
        }
      ]
    },
    {
      "cell_type": "markdown",
      "source": [
        "문자열 안에 따옴표가 들어간다면, 작은 따옴표와 큰 따옴표를 번갈아 사용하여 구분이 가능함."
      ],
      "metadata": {
        "id": "XtTwxkrX4Lh1"
      }
    },
    {
      "cell_type": "code",
      "source": [
        "y = \"He said, \"I love you.\"\"\n",
        "y"
      ],
      "metadata": {
        "colab": {
          "base_uri": "https://localhost:8080/",
          "height": 138
        },
        "id": "asTJRAp04Jnr",
        "outputId": "cc8424d1-1a23-4b3d-82b4-370ce9d0fb1f"
      },
      "execution_count": 10,
      "outputs": [
        {
          "output_type": "error",
          "ename": "SyntaxError",
          "evalue": "ignored",
          "traceback": [
            "\u001b[0;36m  File \u001b[0;32m\"<ipython-input-10-4275bbce3138>\"\u001b[0;36m, line \u001b[0;32m1\u001b[0m\n\u001b[0;31m    y = \"He said, \"I love you.\"\"\u001b[0m\n\u001b[0m                   ^\u001b[0m\n\u001b[0;31mSyntaxError\u001b[0m\u001b[0;31m:\u001b[0m invalid syntax\n"
          ]
        }
      ]
    },
    {
      "cell_type": "code",
      "source": [
        "y = 'He said, \"I love you.\"'\n",
        "y"
      ],
      "metadata": {
        "colab": {
          "base_uri": "https://localhost:8080/",
          "height": 36
        },
        "id": "bqtBLWxD4TJV",
        "outputId": "50a8808f-df75-4c8f-8a68-f27bd39ec3ae"
      },
      "execution_count": 11,
      "outputs": [
        {
          "output_type": "execute_result",
          "data": {
            "text/plain": [
              "'He said, \"I love you.\"'"
            ],
            "application/vnd.google.colaboratory.intrinsic+json": {
              "type": "string"
            }
          },
          "metadata": {},
          "execution_count": 11
        }
      ]
    },
    {
      "cell_type": "code",
      "source": [
        "y = \"He said, \\\"I love you.\\\"\"\n",
        "y"
      ],
      "metadata": {
        "colab": {
          "base_uri": "https://localhost:8080/",
          "height": 36
        },
        "id": "7jbNnDrL4T3P",
        "outputId": "6b67c4ef-02b8-4d61-fa9e-67450835415d"
      },
      "execution_count": 12,
      "outputs": [
        {
          "output_type": "execute_result",
          "data": {
            "text/plain": [
              "'He said, \"I love you.\"'"
            ],
            "application/vnd.google.colaboratory.intrinsic+json": {
              "type": "string"
            }
          },
          "metadata": {},
          "execution_count": 12
        }
      ]
    },
    {
      "cell_type": "code",
      "source": [
        "print(y) #작은 따옴표 없이 가져오는 방법은 Print명령을 사용한다."
      ],
      "metadata": {
        "colab": {
          "base_uri": "https://localhost:8080/"
        },
        "id": "rw99POPp4UsH",
        "outputId": "515b6c7e-ac51-41e4-8b23-111f852f9da6"
      },
      "execution_count": 13,
      "outputs": [
        {
          "output_type": "stream",
          "name": "stdout",
          "text": [
            "He said, \"I love you.\"\n"
          ]
        }
      ]
    },
    {
      "cell_type": "code",
      "source": [],
      "metadata": {
        "id": "Kcq6640E4WEe"
      },
      "execution_count": null,
      "outputs": []
    },
    {
      "cell_type": "markdown",
      "source": [
        "# 2.2.2 데이터 타입의 형태 변환\n",
        "\n",
        "\n",
        "*   int() : 정수형으로 변환\n",
        "*   float() : 실수형으로 변환\n",
        "*   bool() : 불리언형으로 변환\n",
        "*   str() : 문자열로 변환환\n"
      ],
      "metadata": {
        "id": "kHZ-r_BG4bXl"
      }
    },
    {
      "cell_type": "code",
      "source": [
        "temperature = '20'\n",
        "humidity = '50'\n",
        "\n",
        "temperature + humidity"
      ],
      "metadata": {
        "colab": {
          "base_uri": "https://localhost:8080/",
          "height": 36
        },
        "id": "OSszsiFG45-4",
        "outputId": "70b96c91-2a65-43b8-9e4d-7cf33cabd7e0"
      },
      "execution_count": 14,
      "outputs": [
        {
          "output_type": "execute_result",
          "data": {
            "text/plain": [
              "'2050'"
            ],
            "application/vnd.google.colaboratory.intrinsic+json": {
              "type": "string"
            }
          },
          "metadata": {},
          "execution_count": 14
        }
      ]
    },
    {
      "cell_type": "code",
      "source": [
        "int(temperature) + int(humidity)"
      ],
      "metadata": {
        "colab": {
          "base_uri": "https://localhost:8080/"
        },
        "id": "smUbDLCq48f-",
        "outputId": "6a47ef70-ca98-4611-e9a6-1c16852e6b98"
      },
      "execution_count": 15,
      "outputs": [
        {
          "output_type": "execute_result",
          "data": {
            "text/plain": [
              "70"
            ]
          },
          "metadata": {},
          "execution_count": 15
        }
      ]
    },
    {
      "cell_type": "code",
      "source": [
        "a = 0\n",
        "b = 500\n",
        "c = ''\n",
        "d = '하하호호'"
      ],
      "metadata": {
        "id": "OhbX0bxz49x_"
      },
      "execution_count": 16,
      "outputs": []
    },
    {
      "cell_type": "code",
      "source": [
        "bool(a)  # 0은 거짓으로 인식"
      ],
      "metadata": {
        "colab": {
          "base_uri": "https://localhost:8080/"
        },
        "id": "ub0JEjCP4--n",
        "outputId": "0369dc7e-f590-43f9-bb5b-c437efaa2c4d"
      },
      "execution_count": 17,
      "outputs": [
        {
          "output_type": "execute_result",
          "data": {
            "text/plain": [
              "False"
            ]
          },
          "metadata": {},
          "execution_count": 17
        }
      ]
    },
    {
      "cell_type": "code",
      "source": [
        "bool(b)  # 0보다 큰 숫자는 True로 인식식"
      ],
      "metadata": {
        "colab": {
          "base_uri": "https://localhost:8080/"
        },
        "id": "RUPb6yrd5BuC",
        "outputId": "20345e2d-2bd5-4363-e491-488cab016614"
      },
      "execution_count": 18,
      "outputs": [
        {
          "output_type": "execute_result",
          "data": {
            "text/plain": [
              "True"
            ]
          },
          "metadata": {},
          "execution_count": 18
        }
      ]
    },
    {
      "cell_type": "code",
      "source": [
        "bool(c)  # 공백은 False로 인식"
      ],
      "metadata": {
        "colab": {
          "base_uri": "https://localhost:8080/"
        },
        "id": "iZfo9NjH5Hyf",
        "outputId": "95695159-ef7b-44bc-b4a5-61b8357f6b13"
      },
      "execution_count": 19,
      "outputs": [
        {
          "output_type": "execute_result",
          "data": {
            "text/plain": [
              "False"
            ]
          },
          "metadata": {},
          "execution_count": 19
        }
      ]
    },
    {
      "cell_type": "code",
      "source": [
        "bool(d)  # 문자는 True로"
      ],
      "metadata": {
        "colab": {
          "base_uri": "https://localhost:8080/"
        },
        "id": "8h-FchKT5MB_",
        "outputId": "d3a4141b-0aaf-44e4-a053-2a9bec2434c2"
      },
      "execution_count": 20,
      "outputs": [
        {
          "output_type": "execute_result",
          "data": {
            "text/plain": [
              "True"
            ]
          },
          "metadata": {},
          "execution_count": 20
        }
      ]
    },
    {
      "cell_type": "markdown",
      "source": [
        "# 참고"
      ],
      "metadata": {
        "id": "eXefz9Jc5UoV"
      }
    },
    {
      "cell_type": "code",
      "source": [
        "# int() 형변환\n",
        "x = int(100)\n",
        "y = int(29.8)\n",
        "z = int(\"50\")"
      ],
      "metadata": {
        "id": "wEthFA3B5SzI"
      },
      "execution_count": 21,
      "outputs": []
    },
    {
      "cell_type": "code",
      "source": [
        "# float() 형변환\n",
        "a = float(100)\n",
        "b = float(29.8)\n",
        "c = float(\"50\")\n",
        "d = float(\"3.14\")\n"
      ],
      "metadata": {
        "id": "qpqkQqyV62gG"
      },
      "execution_count": 22,
      "outputs": []
    },
    {
      "cell_type": "code",
      "source": [
        "# float() 형변환\n",
        "x = str(\"text\")\n",
        "y = str(100)\n",
        "z = str(3.14)"
      ],
      "metadata": {
        "id": "-gyNmTCz62xe"
      },
      "execution_count": 23,
      "outputs": []
    },
    {
      "cell_type": "code",
      "source": [
        "x, y, z"
      ],
      "metadata": {
        "colab": {
          "base_uri": "https://localhost:8080/"
        },
        "id": "vYWkwIF9630W",
        "outputId": "8393941b-75f2-40b0-856b-be99e5c35748"
      },
      "execution_count": 24,
      "outputs": [
        {
          "output_type": "execute_result",
          "data": {
            "text/plain": [
              "('text', '100', '3.14')"
            ]
          },
          "metadata": {},
          "execution_count": 24
        }
      ]
    },
    {
      "cell_type": "code",
      "source": [
        "print(x, y, z)"
      ],
      "metadata": {
        "colab": {
          "base_uri": "https://localhost:8080/"
        },
        "id": "Y2ZlgdTF64l2",
        "outputId": "e8ca6745-4b38-475d-e535-66e72f3628e7"
      },
      "execution_count": 25,
      "outputs": [
        {
          "output_type": "stream",
          "name": "stdout",
          "text": [
            "text 100 3.14\n"
          ]
        }
      ]
    },
    {
      "cell_type": "code",
      "source": [
        "print(x, type(x))"
      ],
      "metadata": {
        "colab": {
          "base_uri": "https://localhost:8080/"
        },
        "id": "Y5QqDVN665RG",
        "outputId": "40a3d7f1-8717-4eba-ace2-bc684eb43b9f"
      },
      "execution_count": 26,
      "outputs": [
        {
          "output_type": "stream",
          "name": "stdout",
          "text": [
            "text <class 'str'>\n"
          ]
        }
      ]
    },
    {
      "cell_type": "code",
      "source": [],
      "metadata": {
        "id": "uy2e3bAn66ZG"
      },
      "execution_count": null,
      "outputs": []
    }
  ]
}