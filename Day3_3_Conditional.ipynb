{
  "nbformat": 4,
  "nbformat_minor": 0,
  "metadata": {
    "colab": {
      "provenance": [],
      "authorship_tag": "ABX9TyNH8iZo+mPU79aUjUeqZ4bb",
      "include_colab_link": true
    },
    "kernelspec": {
      "name": "python3",
      "display_name": "Python 3"
    },
    "language_info": {
      "name": "python"
    }
  },
  "cells": [
    {
      "cell_type": "markdown",
      "metadata": {
        "id": "view-in-github",
        "colab_type": "text"
      },
      "source": [
        "<a href=\"https://colab.research.google.com/github/LeoCboi/stock_market_analysis_by_python/blob/main/Day3_3_Conditional.ipynb\" target=\"_parent\"><img src=\"https://colab.research.google.com/assets/colab-badge.svg\" alt=\"Open In Colab\"/></a>"
      ]
    },
    {
      "cell_type": "markdown",
      "source": [
        "# 2.4.2 조건식(IF)"
      ],
      "metadata": {
        "id": "kPZgg4Y-8xdZ"
      }
    },
    {
      "cell_type": "code",
      "execution_count": 5,
      "metadata": {
        "colab": {
          "base_uri": "https://localhost:8080/"
        },
        "id": "SBIb61r6sNhg",
        "outputId": "d021bce7-d6bd-4ab7-edbc-2de9a3a574c7"
      },
      "outputs": [
        {
          "output_type": "stream",
          "name": "stdout",
          "text": [
            "아이스 아메리카노\n",
            "맛잇게 드세요\n"
          ]
        }
      ],
      "source": [
        "Today_Temp = 30\n",
        "\n",
        "if Today_Temp > 0:\n",
        "  print('아이스 아메리카노')   # 콜론을 찍어주는 것도 중요 문법 중 하나임.\n",
        "  print('맛잇게 드세요')\n",
        "else:\n",
        "  print('따듯한 아메리카노')\n",
        "  print('맛잇게 드세요')"
      ]
    },
    {
      "cell_type": "code",
      "source": [
        "Today_Temp = 30\n",
        "if Today_Temp > 0\n",
        "  print('아이스 아메리카노')\n",
        "else:\n",
        "  print('따듯한 아메리카노')"
      ],
      "metadata": {
        "colab": {
          "base_uri": "https://localhost:8080/",
          "height": 137
        },
        "id": "4-9a3c2k-hcH",
        "outputId": "ca737dc6-e014-49ec-9e9c-dc32791cfea5"
      },
      "execution_count": 2,
      "outputs": [
        {
          "output_type": "error",
          "ename": "SyntaxError",
          "evalue": "ignored",
          "traceback": [
            "\u001b[0;36m  File \u001b[0;32m\"<ipython-input-2-fc64f80c3e60>\"\u001b[0;36m, line \u001b[0;32m2\u001b[0m\n\u001b[0;31m    if Today_Temp > 0\u001b[0m\n\u001b[0m                     ^\u001b[0m\n\u001b[0;31mSyntaxError\u001b[0m\u001b[0;31m:\u001b[0m invalid syntax\n"
          ]
        }
      ]
    },
    {
      "cell_type": "code",
      "source": [
        "Today_Temp = 30\n",
        "if Today_Temp > 0; #세미콜론은 안 됨.\n",
        "  print('아이스 아메리카노')\n",
        "else:\n",
        "  print('따듯한 아메리카노')"
      ],
      "metadata": {
        "colab": {
          "base_uri": "https://localhost:8080/",
          "height": 137
        },
        "id": "oNayzDHN-ljz",
        "outputId": "995b6530-ae17-4f2b-b072-97cf83eba632"
      },
      "execution_count": 3,
      "outputs": [
        {
          "output_type": "error",
          "ename": "SyntaxError",
          "evalue": "ignored",
          "traceback": [
            "\u001b[0;36m  File \u001b[0;32m\"<ipython-input-3-8cbd6f576ea2>\"\u001b[0;36m, line \u001b[0;32m2\u001b[0m\n\u001b[0;31m    if Today_Temp > 0;\u001b[0m\n\u001b[0m                     ^\u001b[0m\n\u001b[0;31mSyntaxError\u001b[0m\u001b[0;31m:\u001b[0m invalid syntax\n"
          ]
        }
      ]
    },
    {
      "cell_type": "code",
      "source": [
        "# 기온이 0도 보다 높으면 아이스, 0도면 미지근한, 0보다 낮으면 따듯한 아메리카노 추천\n",
        "\n",
        "Today_Temp = shuffle()\n",
        "\n",
        "if Today_Temp > 0:\n",
        "  print('아이스 아메리카노')   # 콜론을 찍어주는 것도 중요 문법 중 하나임.\n",
        "  print('맛잇게 드세요')\n",
        "elif Today_Temp == 0:\n",
        "  print('미지근한 아메리카노')\n",
        "  print('곧 식으니 빨리 드세요')\n",
        "else:\n",
        "  print('따듯한 아메리카노')\n",
        "  print('뜨거우니 마실 때 조심하세요')"
      ],
      "metadata": {
        "colab": {
          "base_uri": "https://localhost:8080/",
          "height": 248
        },
        "id": "b2p6eMys-miK",
        "outputId": "5aeea1fc-892a-43d0-878b-bb9d33186f72"
      },
      "execution_count": 9,
      "outputs": [
        {
          "output_type": "error",
          "ename": "NameError",
          "evalue": "ignored",
          "traceback": [
            "\u001b[0;31m---------------------------------------------------------------------------\u001b[0m",
            "\u001b[0;31mNameError\u001b[0m                                 Traceback (most recent call last)",
            "\u001b[0;32m<ipython-input-9-586ccd198310>\u001b[0m in \u001b[0;36m<module>\u001b[0;34m\u001b[0m\n\u001b[1;32m      1\u001b[0m \u001b[0;31m# 기온이 0도 보다 높으면 아이스, 0도면 미지근한, 0보다 낮으면 따듯한 아메리카노 추천\u001b[0m\u001b[0;34m\u001b[0m\u001b[0;34m\u001b[0m\u001b[0m\n\u001b[1;32m      2\u001b[0m \u001b[0;34m\u001b[0m\u001b[0m\n\u001b[0;32m----> 3\u001b[0;31m \u001b[0mToday_Temp\u001b[0m \u001b[0;34m=\u001b[0m \u001b[0mshuffle\u001b[0m\u001b[0;34m(\u001b[0m\u001b[0;34m)\u001b[0m\u001b[0;34m\u001b[0m\u001b[0;34m\u001b[0m\u001b[0m\n\u001b[0m\u001b[1;32m      4\u001b[0m \u001b[0;34m\u001b[0m\u001b[0m\n\u001b[1;32m      5\u001b[0m \u001b[0;32mif\u001b[0m \u001b[0mToday_Temp\u001b[0m \u001b[0;34m>\u001b[0m \u001b[0;36m0\u001b[0m\u001b[0;34m:\u001b[0m\u001b[0;34m\u001b[0m\u001b[0;34m\u001b[0m\u001b[0m\n",
            "\u001b[0;31mNameError\u001b[0m: name 'shuffle' is not defined"
          ]
        }
      ]
    },
    {
      "cell_type": "code",
      "source": [
        "weather = \"비\"\n",
        "today_temp = 30\n",
        "\n",
        "if weather == '맑음':\n",
        "  if 0 < today_temp:\n",
        "    print('아이스 아메리카노')\n",
        "  elif 0 == today_temp:\n",
        "    print('미지근한 아메리카노')\n",
        "  else:\n",
        "    print('따듯한 아메리카노')\n",
        "else:\n",
        "  print('카푸치노')"
      ],
      "metadata": {
        "colab": {
          "base_uri": "https://localhost:8080/"
        },
        "id": "Hyf2D7QaALmT",
        "outputId": "747c3fba-65a1-427c-91aa-23a8a01f023b"
      },
      "execution_count": 10,
      "outputs": [
        {
          "output_type": "stream",
          "name": "stdout",
          "text": [
            "카푸치노\n"
          ]
        }
      ]
    },
    {
      "cell_type": "code",
      "source": [
        "#영어 90점 이상, 수학 90점 이상 : 인상\n",
        "#영어 80점 이하, 수학 80점 이하 : 삭감\n",
        "\n",
        "math_score = 80\n",
        "eng_score = 100\n",
        "if eng_score >= 90 and math_score >= 90:\n",
        "  print('용돈인상')\n",
        "elif eng_score <= 80 and math_score <= 80:\n",
        "  print('용돈삭감')\n",
        "else:\n",
        "  print('동결')"
      ],
      "metadata": {
        "colab": {
          "base_uri": "https://localhost:8080/"
        },
        "id": "HfqP9dDZBAHy",
        "outputId": "c20a0aa7-6d45-4a52-da2d-e2b4d4678b8d"
      },
      "execution_count": 11,
      "outputs": [
        {
          "output_type": "stream",
          "name": "stdout",
          "text": [
            "동결\n"
          ]
        }
      ]
    },
    {
      "cell_type": "code",
      "source": [
        "import random\n",
        "\n",
        "weather = \"비\"\n",
        "today_temp = 30\n",
        "if weather == '맑음':\n",
        "  if 0 < today_temp:\n",
        "    print('아이스 아메리카노')\n",
        "  elif 0 == today_temp:\n",
        "    print('미지근한 아메리카노')\n",
        "  else:\n",
        "    print('따듯한 아메리카노')\n",
        "else:\n",
        "  print('카푸치노')"
      ],
      "metadata": {
        "colab": {
          "base_uri": "https://localhost:8080/"
        },
        "id": "UuMYuEWoBkIr",
        "outputId": "79d819d2-88cc-48ff-fec0-7ab319f34fa9"
      },
      "execution_count": 22,
      "outputs": [
        {
          "output_type": "stream",
          "name": "stdout",
          "text": [
            "카푸치노\n"
          ]
        }
      ]
    },
    {
      "cell_type": "markdown",
      "source": [
        "#2.5.1 For"
      ],
      "metadata": {
        "id": "BPUwk1b8C26B"
      }
    },
    {
      "cell_type": "code",
      "source": [],
      "metadata": {
        "id": "vfAunDnmB4mZ"
      },
      "execution_count": null,
      "outputs": []
    },
    {
      "cell_type": "code",
      "source": [],
      "metadata": {
        "id": "whe_qAw9C55_"
      },
      "execution_count": null,
      "outputs": []
    }
  ]
}