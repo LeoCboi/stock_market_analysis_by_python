{
  "nbformat": 4,
  "nbformat_minor": 0,
  "metadata": {
    "colab": {
      "private_outputs": true,
      "provenance": [],
      "include_colab_link": true
    },
    "kernelspec": {
      "name": "python3",
      "display_name": "Python 3"
    },
    "language_info": {
      "name": "python"
    }
  },
  "cells": [
    {
      "cell_type": "markdown",
      "metadata": {
        "id": "view-in-github",
        "colab_type": "text"
      },
      "source": [
        "<a href=\"https://colab.research.google.com/github/LeoCboi/stock_market_analysis_by_python/blob/main/Stock_Report_py.ipynb\" target=\"_parent\"><img src=\"https://colab.research.google.com/assets/colab-badge.svg\" alt=\"Open In Colab\"/></a>"
      ]
    },
    {
      "cell_type": "markdown",
      "source": [
        "# 환경설정"
      ],
      "metadata": {
        "id": "GRZYRwPNp86a"
      }
    },
    {
      "cell_type": "code",
      "source": [
        " !pip install pykrx"
      ],
      "metadata": {
        "id": "a6QvyjkLdCL1",
        "collapsed": true
      },
      "execution_count": null,
      "outputs": []
    },
    {
      "cell_type": "code",
      "source": [
        "# (라이브러리 설치 후 런타임 재시작 필요)\n",
        "!sudo apt-get install -y fonts-nanum\n",
        "!sudo fc-cache -fv\n",
        "!rm ~/.cache/matplotlib -rf"
      ],
      "metadata": {
        "id": "VI7HQFW4t27y"
      },
      "execution_count": null,
      "outputs": []
    },
    {
      "cell_type": "code",
      "source": [
        "import numpy as np\n",
        "import pandas as pd\n",
        "import matplotlib.pyplot as plt\n",
        "import seaborn as sns\n",
        "import plotly.express as px\n",
        "\n",
        "# Matplotlib 한글 폰트 설정\n",
        "plt.rc('font', family='NanumBarunGothic')   "
      ],
      "metadata": {
        "id": "R9oSawynOQi_"
      },
      "execution_count": null,
      "outputs": []
    },
    {
      "cell_type": "markdown",
      "source": [
        "-----"
      ],
      "metadata": {
        "id": "IoPIixKewNb3"
      }
    },
    {
      "cell_type": "markdown",
      "source": [
        "## 주가 가져오기(삼성전자)"
      ],
      "metadata": {
        "id": "Wv6XNxjnqAQF"
      }
    },
    {
      "cell_type": "code",
      "source": [
        "from pykrx import stock\n",
        "\n",
        "start_date = \"20200101\"\n",
        "end_date = \"20230420\"\n",
        "today = \"20230420\"\n",
        "ticker = \"005935\" # LG에너지 솔루션\n",
        "df = stock.get_market_ohlcv(start_date, end_date, ticker)\n",
        "df.head(3)"
      ],
      "metadata": {
        "id": "-FYOaCpMMosu"
      },
      "execution_count": null,
      "outputs": []
    },
    {
      "cell_type": "markdown",
      "source": [
        "## 이동평균 구하기"
      ],
      "metadata": {
        "id": "ds5tyvTCy2iA"
      }
    },
    {
      "cell_type": "code",
      "source": [
        "df['ma5'] = df['종가'].rolling(5).mean()\n",
        "df['ma20'] = df['종가'].rolling(20).mean()\n",
        "df['ma100'] = df['종가'].rolling(100).mean()\n",
        "df['ma200'] = df['종가'].rolling(200).mean()"
      ],
      "metadata": {
        "id": "vFYuEbfxwVN8"
      },
      "execution_count": null,
      "outputs": []
    },
    {
      "cell_type": "code",
      "source": [
        "df.head()"
      ],
      "metadata": {
        "id": "yM1z5fUKw0ZC"
      },
      "execution_count": null,
      "outputs": []
    },
    {
      "cell_type": "markdown",
      "source": [
        "## 이동평균 시각화"
      ],
      "metadata": {
        "id": "M0GubGKRy5nG"
      }
    },
    {
      "cell_type": "code",
      "source": [
        "import plotly.express as px\n",
        "df1 = df[['종가', 'ma5', 'ma20', 'ma100', 'ma200']]\n",
        "fig = px.line(df1,  y=df1.columns,\n",
        "              title='이동평균선')\n",
        "fig.update_xaxes(\n",
        "    dtick=\"M1\",\n",
        "    tickformat=\"%b\\n%Y\",\n",
        "    ticklabelmode=\"period\")\n",
        "fig.show()"
      ],
      "metadata": {
        "id": "PlxcKGNXw4EO"
      },
      "execution_count": null,
      "outputs": []
    },
    {
      "cell_type": "markdown",
      "source": [
        "이동평균 데이터를 분석하였을 때 코로나 초기에 주식 가격이 폭락하였으나, 21년 초에 회복하여 현재는 코로나이전의 곡선으로 돌아왔음."
      ],
      "metadata": {
        "id": "QUeSgM5YXM9A"
      }
    },
    {
      "cell_type": "markdown",
      "source": [
        "# [스토캐스틱(Stochastic)]( https://ko.wikipedia.org/wiki/%EC%8A%A4%ED%86%A0%EC%BA%90%EC%8A%A4%ED%8B%B1)\n",
        "- 최근 N일간의 최고가와 최저가의 범위 내에서 현재 가격의 위치를 표시\n",
        "- **매수세** > 매도세: 현재 가격의 위치가 높게 형성됨\n",
        "- **매도세** > 매수세: 현재 가격의 위치가 낮게 형성됨\n",
        "\n",
        "$$스토캐스틱N = \\frac{(현재 가격 - N일 중 최저가)}{(N일 중 최고가 - N일중 최저가)}$$\n",
        "\n",
        "- 스토캐스틱 값의 범위는 항상 0~100% 사이\n",
        "    - 스토캐스틱 = **100%**: 현재 가격이 N일간 최고가, 매수세가 강함\n",
        "    - 스토캐스틱 = **0%**: 현재 가격이 N일간 최저가, 매도세가 강함함\n",
        "    - 스토캐스틱 >= **80%**: 과매수 상태(하락 가능성이 커짐),\n",
        "    - 스토캐스틱 <= **20%**: 과매도 상태(상승 가능성이 커짐)\n",
        "    "
      ],
      "metadata": {
        "id": "M3PA9zZibmEU"
      }
    },
    {
      "cell_type": "markdown",
      "source": [
        "----\n",
        "(예)\n",
        "```\n",
        "최근 5일간 최고가가 15,000원이고 최저가가 10,000원인 주식\n",
        "```\n",
        "- 현재가가 14,000원이라면?\n",
        "    - 매수세가 강하여 오르는 추세임\n",
        "    - 스토캐스틱 값은 80%\n",
        "- 현재가가 11,000원이라면?\n",
        "    - 매도세가 강하여 내리는 추세임\n",
        "    - 스토캐스틱 값은 20%\n",
        "----"
      ],
      "metadata": {
        "id": "DNfOK_67oK5V"
      }
    },
    {
      "cell_type": "markdown",
      "source": [
        "## Fast Stochastic 공식\n",
        "\n",
        "\n",
        "$$Fast \\%K = \\frac{(현재 가격 - N일 중 최저가)}{(N일 중 최고가 - N일중 최저가)}$$\n",
        "<br>\n",
        "$$Fast \\%D = Fask \\%K의 m기간 이동평균$$\n",
        "<br>\n",
        "- 일반적으로 N=5. m=3을 사용\n",
        "- N을 10으로 사용할 경우, m=6으로 사용\n",
        " \n"
      ],
      "metadata": {
        "id": "7M5V5jlMpilp"
      }
    },
    {
      "cell_type": "markdown",
      "source": [
        "\n",
        "## Slow Stochastic 공식\n",
        "\n",
        "$$Slow\\%K = Fast\\%K의 m기간 이동평균$$\n",
        "<br>\n",
        "$$Slow\\%D = Slow\\%K의 t기간 이동평균$$\n",
        "<br>\n",
        "\n",
        "- Slow Stochastic에서는 n(5)-m(3)-t(3) 공식이 가장 많이 사용\n",
        "- 네이버금융은 n(15)-m(5)-t(3)을 사용\n",
        "\n",
        "- Fast Stochastic은 그래프의 변화가 너무 잦고 급격하여 노이즈 즉 가짜 신호가 많아 매수 매도시 참고하기 어렵다는 문제점이 있기 때문에 일반적으로 Slow Stochastic을 사용\n",
        "\n",
        " \n",
        "\n",
        "\n",
        " "
      ],
      "metadata": {
        "id": "EmSUVoUfDG5X"
      }
    },
    {
      "cell_type": "markdown",
      "source": [
        "## 스토캐스틱 구하기"
      ],
      "metadata": {
        "id": "Ra1JayY7qDgL"
      }
    },
    {
      "cell_type": "code",
      "source": [
        "# Fast %K = ((현재가 - n기간 중 최저가) / (n기간 중 최고가 - n기간 중 최저가)) * 100\n",
        "def get_stochastic_fast_k(close_price, low, high, n=5):\n",
        "  fast_k = ((close_price - low.rolling(n).min()) / (high.rolling(n).max() - low.rolling(n).min())) * 100\n",
        "  return fast_k\n",
        " \n",
        "# Slow %K = Fast %K의 m기간 이동평균\n",
        "def get_stochastic_slow_k(fast_k, n=3):\n",
        "  slow_k = fast_k.rolling(n).mean()\n",
        "  return slow_k\n",
        " \n",
        "# Slow %D = Slow %K의 t기간 이동평균\n",
        "def get_stochastic_slow_d(slow_k, n=3):\n",
        "  slow_d = slow_k.rolling(n).mean()\n",
        "  return slow_d "
      ],
      "metadata": {
        "id": "08d30mbPNsR6"
      },
      "execution_count": null,
      "outputs": []
    },
    {
      "cell_type": "markdown",
      "source": [
        "스토캐스틱 구하기"
      ],
      "metadata": {
        "id": "rGcOZCEZqMvC"
      }
    },
    {
      "cell_type": "code",
      "source": [
        "# fast_k, slow_k, slow_d를 획득\n",
        "df['fast_k'] = get_stochastic_fast_k(df['종가'], df['저가'], df['고가'], 5)\n",
        "df['slow_k'] = get_stochastic_slow_k(df['fast_k'], 3)\n",
        "df['slow_d'] = get_stochastic_slow_d(df['slow_k'], 3)"
      ],
      "metadata": {
        "id": "I3N9NgBuOw56"
      },
      "execution_count": null,
      "outputs": []
    },
    {
      "cell_type": "markdown",
      "source": [
        "## 스토캐스틱 시각화"
      ],
      "metadata": {
        "id": "GXkwlxdFqS_e"
      }
    },
    {
      "cell_type": "code",
      "source": [
        "from plotly.subplots import make_subplots\n",
        "import plotly.graph_objects as go\n",
        "\n",
        "# Create figure with secondary y-axis\n",
        "fig = make_subplots(specs=[[{\"secondary_y\": True}]])\n",
        "\n",
        "fig.add_trace(\n",
        "    go.Line(x = df.index, y = df['종가'], name='종가'),\n",
        "    secondary_y= True\n",
        ")\n",
        "\n",
        "# Add traces\n",
        "fig.add_trace(\n",
        "    go.Line(x = df.index, y = df['slow_k'], name='slow_k'),\n",
        "    secondary_y= False\n",
        ")\n",
        "\n",
        "# Add traces\n",
        "fig.add_trace(\n",
        "    go.Line(x = df.index, y = df['slow_d'], name='slow_d'),\n",
        "    secondary_y= False\n",
        ")\n",
        "\n",
        "# Add traces\n",
        "fig.add_trace(\n",
        "    go.Line(x = df.index, y=[80] * len(df.index), name='80선'),\n",
        "    secondary_y= False\n",
        ")\n",
        "\n",
        "# Add traces\n",
        "fig.add_trace(\n",
        "    go.Line(x = df.index, y=[20] * len(df.index), name='20선'),\n",
        "    secondary_y= False\n",
        ")\n",
        "\n",
        "fig.update_xaxes(\n",
        "    rangeslider_visible=True,\n",
        "    rangeselector=dict(\n",
        "        buttons=list([\n",
        "            dict(count=1, label=\"1m\", step=\"month\", stepmode=\"backward\"),\n",
        "            dict(count=6, label=\"6m\", step=\"month\", stepmode=\"backward\"),\n",
        "            dict(count=1, label=\"YTD\", step=\"year\", stepmode=\"todate\"),\n",
        "            dict(count=1, label=\"1y\", step=\"year\", stepmode=\"backward\"),\n",
        "            dict(step=\"all\")\n",
        "        ])\n",
        "    )\n",
        ")\n",
        "\n",
        "# Set y-axes titles\n",
        "fig.update_yaxes(title_text=\"<b>stocastic</b> axis\", secondary_y=False)\n",
        "fig.update_yaxes(title_text=\"<b>종가</b> axis\", secondary_y=True)\n",
        "\n",
        "fig.show()"
      ],
      "metadata": {
        "id": "PurBLdRfPGt_"
      },
      "execution_count": null,
      "outputs": []
    },
    {
      "cell_type": "markdown",
      "source": [
        "## 골든크로스\n",
        "- 단기이동평균선이 장기이동평균선을 뚫고 상승하는 것\n",
        "- 스토캐스틱 20 이하에서 %K선이 %D선을 상향 돌파\n",
        "- 매수 시점"
      ],
      "metadata": {
        "id": "8fktMYwBsgog"
      }
    },
    {
      "cell_type": "code",
      "source": [
        "df.query('(slow_k >= slow_d) and (slow_k <= 20)')"
      ],
      "metadata": {
        "id": "6MDdZQg5qdYt"
      },
      "execution_count": null,
      "outputs": []
    },
    {
      "cell_type": "markdown",
      "source": [
        "## 데드크로스\n",
        "- 단기이동평균선이 장기이동평균선을 뚫고 하락하는 것\n",
        "- 스토캐스틱 80 이상상에서 %K선이 %D선을 하향 돌파\n",
        "- 매도 시점\n"
      ],
      "metadata": {
        "id": "73uTDCE6tMNd"
      }
    },
    {
      "cell_type": "code",
      "source": [
        "df.query('(slow_k <= slow_d) and (slow_k >= 80)')"
      ],
      "metadata": {
        "id": "pafyxg4fqxEE"
      },
      "execution_count": null,
      "outputs": []
    },
    {
      "cell_type": "code",
      "source": [],
      "metadata": {
        "id": "3s_dCTSMZJS9"
      },
      "execution_count": null,
      "outputs": []
    },
    {
      "cell_type": "markdown",
      "source": [
        "# 그래프를 통한 주가 분석"
      ],
      "metadata": {
        "id": "Dz-MPHiEZYsz"
      }
    },
    {
      "cell_type": "markdown",
      "source": [
        "## 환경설정 / 야후파이낸스를 불러오지 않음."
      ],
      "metadata": {
        "id": "P7vEmZIDZd-Z"
      }
    },
    {
      "cell_type": "code",
      "source": [
        "!pip install pandas-datareader\n",
        "!pip install yfinance"
      ],
      "metadata": {
        "id": "1GdHlzUcZl33"
      },
      "execution_count": null,
      "outputs": []
    },
    {
      "cell_type": "code",
      "source": [
        "from pandas_datareader import data\n",
        "import yfinance as yfin\n",
        "\n",
        "yfin.pdr_override()\n",
        "\n",
        "df = data.get_data_yahoo('005935.KS', start = '2020-01-01')\n",
        "df.tail()"
      ],
      "metadata": {
        "id": "gUfQcna6cBVn"
      },
      "execution_count": null,
      "outputs": []
    },
    {
      "cell_type": "code",
      "source": [
        "df['Close'].plot(figsize = (18, 5)) #거래일 종가에 대한 거래금액 시각화화"
      ],
      "metadata": {
        "id": "cVo7T4rHcKGd"
      },
      "execution_count": null,
      "outputs": []
    },
    {
      "cell_type": "code",
      "source": [
        "import plotly.express as px\n",
        "\n",
        "fig = px.line(df, y = 'Close')\n",
        "fig.show()"
      ],
      "metadata": {
        "id": "_tH2kcS0cUo_"
      },
      "execution_count": null,
      "outputs": []
    },
    {
      "cell_type": "code",
      "source": [
        "fig = px.bar(df, y='Volume')\n",
        "fig.show()"
      ],
      "metadata": {
        "id": "0Bc0G21-cp-O"
      },
      "execution_count": null,
      "outputs": []
    },
    {
      "cell_type": "code",
      "source": [
        "fig = px.line(df, y='Close', title='Time Series with Rangeslider')\n",
        "\n",
        "fig.update_xaxes(rangeslider_visible = True)\n",
        "fig.show()"
      ],
      "metadata": {
        "id": "9W407eiVcvs2"
      },
      "execution_count": null,
      "outputs": []
    },
    {
      "cell_type": "code",
      "source": [
        "fig = px.line(df, y='Close', title='Time Series with Rangeslider')\n",
        "\n",
        "fig.update_xaxes(\n",
        "    rangeslider_visible=True,\n",
        "    rangeselector = dict(\n",
        "        buttons = list([\n",
        "            dict(count=1, label=\"1m\", step=\"month\", stepmode=\"backward\"),\n",
        "            dict(count=6, label=\"6m\", step=\"month\", stepmode=\"backward\"),\n",
        "            dict(count=1, label=\"YTD\", step=\"year\", stepmode=\"todate\"),\n",
        "            dict(count=1, label=\"1y\", step=\"year\", stepmode=\"backward\"),\n",
        "            dict(step=\"all\")\n",
        "        ])\n",
        "    )\n",
        ")\n",
        "fig.show()"
      ],
      "metadata": {
        "id": "ff8gKzIEcx9O"
      },
      "execution_count": null,
      "outputs": []
    },
    {
      "cell_type": "code",
      "source": [
        "from plotly.subplots import make_subplots\n",
        "import plotly.graph_objects as go\n",
        "\n",
        "# Create figure with secondary y-axis\n",
        "fig = make_subplots(specs=[[{\"secondary_y\": True}]])\n",
        "\n",
        "# Add traces\n",
        "fig.add_trace(\n",
        "    go.Line(x = df.index, y = df['Close']),\n",
        "    secondary_y= False\n",
        ")\n",
        "\n",
        "# Add traces\n",
        "fig.add_trace(\n",
        "    go.Bar(x = df.index, y = df['Volume']),\n",
        "    secondary_y= True\n",
        ")\n",
        "\n",
        "fig.update_xaxes(\n",
        "    rangeslider_visible=True,\n",
        "    rangeselector=dict(\n",
        "        buttons=list([\n",
        "            dict(count=1, label=\"1m\", step=\"month\", stepmode=\"backward\"),\n",
        "            dict(count=6, label=\"6m\", step=\"month\", stepmode=\"backward\"),\n",
        "            dict(count=1, label=\"YTD\", step=\"year\", stepmode=\"todate\"),\n",
        "            dict(count=1, label=\"1y\", step=\"year\", stepmode=\"backward\"),\n",
        "            dict(step=\"all\")\n",
        "        ])\n",
        "    )\n",
        ")\n",
        "\n",
        "# Set y-axes titles\n",
        "fig.update_yaxes(title_text=\"Close axis\", secondary_y=False)\n",
        "fig.update_yaxes(title_text=\"Volume axis\", secondary_y=True)\n",
        "\n",
        "fig.show()"
      ],
      "metadata": {
        "id": "69xhaZMdc0_G"
      },
      "execution_count": null,
      "outputs": []
    },
    {
      "cell_type": "markdown",
      "source": [
        "#Candlestick을 통한 삼성전자(우) 데이터 분석"
      ],
      "metadata": {
        "id": "ssn2W4VKc_a9"
      }
    },
    {
      "cell_type": "code",
      "source": [
        "import pandas as pd\n",
        "from datetime import datetime\n",
        "\n",
        "fig = go.Figure(data = go.Candlestick(\n",
        "        x = df.index,\n",
        "        open = df['Open'],\n",
        "        close = df['Close'],\n",
        "        low = df['Low'],\n",
        "        high = df['High'],\n",
        "))\n",
        "\n",
        "fig.show()"
      ],
      "metadata": {
        "id": "BqvksEbkc6DN"
      },
      "execution_count": null,
      "outputs": []
    },
    {
      "cell_type": "markdown",
      "source": [
        "총 일자별 등락률과 거래양을 알 수 있는데, 채권 이자율이 낮을 경우나 이자율이 예상이 갈 경우에는 시장의 반응은 상승으로 가져갔다. 이와 반대일 경우에는 박스권을 형성하면서 서서히 낮아졌다. 또한, 반도체 수급이 낮을 경우에는 단기적인 상승렐리를 이어왔으나, 잇다른 국제문제와 경기침체로 인한 반도체 재고가 쌓이면서 영업이익이 계속해서 줄어들었다. 또한, 신제품에 대한 기대치가 낮아지면서 주가는 코로나 이전의 상태로 돌아갔다."
      ],
      "metadata": {
        "id": "XKN2Ufv5dLvM"
      }
    },
    {
      "cell_type": "markdown",
      "source": [
        "#경쟁사 데이터 분석(반도체 및 첨단디바이스 제작 관련 업체로 한정)"
      ],
      "metadata": {
        "id": "oeDfVu6beIE-"
      }
    },
    {
      "cell_type": "code",
      "source": [
        "bank_tickers = ['005935.KS',\n",
        "                'AAPL', # APPLE\n",
        "                'TSMC34.SA', # TSMC\n",
        "                '000660.KS', # SK 하이닉스\n",
        "                'NVDA' #엔비디아\n",
        "                 ]\n",
        "df = pd.DataFrame()\n",
        "for ticker in bank_tickers:\n",
        "    temp = data.get_data_yahoo(ticker, start = '2020-01-01')['Close']\n",
        "    df = pd.merge(df, temp, right_index=True, left_index=True, how='outer', suffixes=('', ticker))\n",
        "\n",
        "# 중국꺼는 못불어오는 거 같음."
      ],
      "metadata": {
        "id": "fsUBfXk6eHGz"
      },
      "execution_count": null,
      "outputs": []
    },
    {
      "cell_type": "code",
      "source": [
        "df"
      ],
      "metadata": {
        "id": "RZfuXsY3fQ-x"
      },
      "execution_count": null,
      "outputs": []
    },
    {
      "cell_type": "code",
      "source": [
        "df.set_axis(labels=bank_tickers, axis=1, inplace = True) # Date를 제외하고 티커로 컬럼명 변경\n",
        "df.head()"
      ],
      "metadata": {
        "id": "heETQoNOflOm"
      },
      "execution_count": null,
      "outputs": []
    },
    {
      "cell_type": "markdown",
      "source": [
        "## 5개 경쟁사 시각화"
      ],
      "metadata": {
        "id": "GtCBhD-ifuQs"
      }
    },
    {
      "cell_type": "code",
      "source": [
        "from sklearn.preprocessing import MinMaxScaler\n",
        "\n",
        "scaler = MinMaxScaler()\n",
        "scaled_data = scaler.fit_transform(df.values)\n",
        "scaled_df = pd.DataFrame(data=scaled_data, columns=df.columns, index = df.index)"
      ],
      "metadata": {
        "id": "PxzyE43wgrbU"
      },
      "execution_count": null,
      "outputs": []
    },
    {
      "cell_type": "code",
      "source": [
        "fig = px.line(scaled_df, x=scaled_df.index, y=scaled_df.columns)\n",
        "fig.update_xaxes(\n",
        "    dtick=\"M1\",\n",
        "    tickformat=\"%b\\n%Y\")\n",
        "fig.show()"
      ],
      "metadata": {
        "id": "70MYVtC9gtJy"
      },
      "execution_count": null,
      "outputs": []
    },
    {
      "cell_type": "code",
      "source": [
        "import plotly.express as px\n",
        "fig = px.line(df, x=df.index, y=df.columns)\n",
        "fig.update_xaxes(\n",
        "    dtick=\"M1\",\n",
        "    tickformat=\"%b\\n%Y\")\n",
        "fig.show()\n",
        "     "
      ],
      "metadata": {
        "id": "NK0gG17GftjY"
      },
      "execution_count": null,
      "outputs": []
    },
    {
      "cell_type": "markdown",
      "source": [
        "# 삼성전자(우)에 대한 상승기에서의 불타기 / 하락기에서의 물타기 적용 해보기"
      ],
      "metadata": {
        "id": "lFZjhjqwjQgV"
      }
    },
    {
      "cell_type": "markdown",
      "source": [
        "## 상승기 때의 불타기"
      ],
      "metadata": {
        "id": "NZOrh8Mqjee4"
      }
    },
    {
      "cell_type": "code",
      "source": [
        "from google.colab import drive\n",
        "drive.mount('/content/drive')"
      ],
      "metadata": {
        "id": "hqDc8GIpiBIw"
      },
      "execution_count": null,
      "outputs": []
    },
    {
      "cell_type": "code",
      "source": [
        "!pip install pandas-datareader\n",
        "!pip install yfinance"
      ],
      "metadata": {
        "id": "lMmbjkz6jidu"
      },
      "execution_count": null,
      "outputs": []
    },
    {
      "cell_type": "code",
      "source": [
        "from pandas_datareader import data\n",
        "import yfinance as yfin\n",
        "import pandas as pd\n",
        "from datetime import timedelta\n",
        "import plotly.graph_objects as go\n",
        "\n",
        "yfin.pdr_override()\n",
        "\n",
        "def get_stocks(ticker, start = '2020-01-01', end = '2022-01-01'):\n",
        "    stock_df = data.get_data_yahoo(ticker, start = start)\n",
        "    #stock_df['Close'].plot()\n",
        "    return stock_df\n",
        "\n",
        "def get_price_dataframe(num, percent, start_price):\n",
        "    price_list = [start_price]\n",
        "    average_price_list = []\n",
        "    for i in range(num):  #몇 번 반복할 것인지를 결정하는 부분\n",
        "        price_list.append(price_list[i] * (1 + percent)) # 00%가 오를 때 몇번을 살 것인지를 결정하는 로직\n",
        "    df = pd.DataFrame({'매수가': price_list})\n",
        "    df['매수량'] = range(len(price_list))#1 #한 주씩 사는 것으로 셋팅하였으며, range(len(price_list)로 로직을 구성할 경우, 기간에 따라 1주씩 늘어남.\n",
        "    df['보유량'] = df['매수량'].cumsum() #누적값을 확인하는 방법\n",
        "    average_price_list = [df['매수가'][0]]\n",
        "    for i in range(len(df)-1):\n",
        "        average_price = (average_price_list[i] * df['보유량'][i] + df['매수가'][i+1] * df['매수량'][i+1]) / df['보유량'][i+1]\n",
        "        average_price_list.append(average_price)\n",
        "    df['매수 후 평균단가'] = average_price_list\n",
        "    df['원금'] = df['매수 후 평균단가'] * df['보유량'] \n",
        "    df['매수 후 평가금액'] = df['매수가'] * df['보유량'] \n",
        "    df['수익률'] = df['매수 후 평가금액']/df['원금'] - 1\n",
        "    return df\n",
        "\n",
        "def get_sell_dates(plan_df, stock_df):\n",
        "    first_date = []\n",
        "    for value in plan_df['매수가']:\n",
        "        # print(value)\n",
        "        index_list = stock_df.query(f'Close >={value} and Close <={value+1}' ).index\n",
        "\n",
        "        if len(index_list) == 0 or (len(first_date) > 0 and index_list[-1] - first_date[-1] >= timedelta(days=5)\n",
        "    ):\n",
        "            index_list = stock_df.query(f'Close <={value+1}' ).index\n",
        "\n",
        "        # print(index_list)\n",
        "\n",
        "        if len(first_date) == 0:\n",
        "            first_date.append(index_list[0])\n",
        "        else:\n",
        "            for i in index_list:\n",
        "                if i > first_date[-1]:\n",
        "                    # print('i: {}, first_date:{}'.format(i, first_date[-1]))\n",
        "                    first_date.append(i)\n",
        "                    break\n",
        "        # print(first_date[-1])\n",
        "        # print('-'*10)\n",
        "    return first_date\n",
        "\n",
        "def plot_status(stock_df, plan_df, sell_dates):\n",
        "\n",
        "    fig = go.Figure()\n",
        "\n",
        "    fig.add_trace(go.Scatter(\n",
        "        x=stock_df.index,\n",
        "        y=stock_df['Close'],\n",
        "        name = '종가',\n",
        "        # connectgaps=True # override default to connect the gaps\n",
        "    ))\n",
        "    fig.add_trace(go.Scatter(\n",
        "        x=stock_df.index,\n",
        "        y=[plan_df['매수 후 평균단가'].iloc[-1]] * len(stock_df.index),\n",
        "        name='매수 후 평균단가',\n",
        "    ))\n",
        "    fig.add_trace(go.Scatter(\n",
        "        x=sell_dates,\n",
        "        y=plan_df['매수가'],#TSLA_df.loc[first_date]['Close'],\n",
        "        mode=\"markers+text\",\n",
        "        name=\"분할매수시점\",\n",
        "        # text=plan_df['매수가'],#[\"Text D\", \"Text E\", \"Text F\", '3', '3'],\n",
        "        textposition=\"bottom center\"\n",
        "    ))\n",
        "    fig.show()\n",
        "\n",
        "def run():#ticker, num, percent, start_price):\n",
        "    ticker = input('시뮬레이션 할 종목의 티커를 입력하세요.(예:TSLA): ')\n",
        "    stock_df = get_stocks(ticker)\n",
        "    num = input('몇 번 분할매수를 진행하시겠습니까? (예:20): ')\n",
        "    percent = input('몇 % 상승시 분할매수를 진행하시겠습니까? (예:1): ')\n",
        "    print('{}의 종가 최고가는 {:.2f}입니다.'.format(ticker, stock_df['Close'].max()))\n",
        "    start_price = input('첫 주가 구매 금액을 얼마로 설정하시겠습니까?(예:214): ')\n",
        "    \n",
        "    plan_df = get_price_dataframe(int(num), int(percent)/100, float(start_price))\n",
        "    sell_dates = get_sell_dates(plan_df, stock_df)\n",
        "\n",
        "    print('\\n\\n')\n",
        "    print('='*90)\n",
        "    print('{}의 현재 보유량은 {}, 매수 후 평균단가는 ${:.2f}입니다.'\\\n",
        "      .format(ticker, plan_df.iloc[-1]['보유량'], plan_df.iloc[-1]['매수 후 평균단가']))\n",
        "\n",
        "    result = (stock_df.iloc[-1]['Close'] * plan_df.iloc[-1]['보유량'] / plan_df.iloc[-1]['원금'] -1) * 100\n",
        "    print('총 투자 원금은 ${:.2f} 입니다. {} 기준 수익률은 {:.2f}%입니다.'\\\n",
        "        .format(plan_df.iloc[-1]['원금'], stock_df.index[-1], result))    \n",
        "    \n",
        "    filename = '{}_planner.xlsx'.format(ticker)\n",
        "    plan_df.to_excel(filename)\n",
        "    print('='*90)\n",
        "    print('※{}이 생성되었습니다.좌측의 생성된 파일을 다운로드 받아주세요'.format(filename))\n",
        "    plot_status(stock_df, plan_df, sell_dates)"
      ],
      "metadata": {
        "id": "YgfjmLx9k1Pd"
      },
      "execution_count": null,
      "outputs": []
    },
    {
      "cell_type": "code",
      "source": [
        "run()"
      ],
      "metadata": {
        "id": "3ICpC7z4k4gW"
      },
      "execution_count": null,
      "outputs": []
    },
    {
      "cell_type": "markdown",
      "source": [
        "너도나도 사기 좋을 때인 20년 초에서부터 4.3만에 주식거래를 하고, 21년 1월에 모두 청산했을 경우 "
      ],
      "metadata": {
        "id": "ASA6YBsvnZVj"
      }
    },
    {
      "cell_type": "markdown",
      "source": [
        "##하락기일 때 물타기"
      ],
      "metadata": {
        "id": "cfdTd2HOl_sW"
      }
    },
    {
      "cell_type": "code",
      "source": [
        "!pip install pandas-datareader\n",
        "!pip install yfinance\n",
        "!curl -L -O https://raw.githubusercontent.com/zzhining/real_data/main/mool_simulator.py"
      ],
      "metadata": {
        "id": "N7SxQqn_k51Y"
      },
      "execution_count": null,
      "outputs": []
    },
    {
      "cell_type": "code",
      "source": [
        "import mool_simulator as sim\n",
        "sim.run()"
      ],
      "metadata": {
        "id": "FaKdls4ImB3O"
      },
      "execution_count": null,
      "outputs": []
    },
    {
      "cell_type": "markdown",
      "source": [
        "# 삼성전자(우) 관련 신문기사 스크랩"
      ],
      "metadata": {
        "id": "nHpNSXDVo6jC"
      }
    },
    {
      "cell_type": "code",
      "source": [
        "from bs4 import BeautifulSoup\n",
        "import requests\n",
        "import pandas as pd\n",
        "import datetime\n",
        "\n",
        "title_list = []\n",
        "url_list = []\n",
        "article_list = []\n",
        "date_list = []\n",
        "\n",
        "for i in range(1):\n",
        "    date= datetime.date.today() - datetime.timedelta(days = i)\n",
        "    url = f'https://finance.naver.com/news/mainnews.naver?date={date}'\n",
        "    response = requests.get(url)\n",
        "    soup = BeautifulSoup(response.text, 'lxml')\n",
        "\n",
        "    titles = soup.find_all('dd', {'class': 'articleSubject'})\n",
        "    for t in titles:  \n",
        "        title = t.text.strip()\n",
        "        url = t.find('a').get('href')\n",
        "        response = requests.get('https://finance.naver.com/' + url) # 상세 기사 페이지\n",
        "        soup = BeautifulSoup(response.text, 'lxml')\n",
        "        article = soup.find('div', {'class': 'articleCont'})\n",
        "        \n",
        "        title_list.append(title)\n",
        "        url_list.append(url)\n",
        "        if article is not None:\n",
        "            article_list.append(article.text.strip())\n",
        "        else:\n",
        "            article_list.append('')\n",
        "        date_list.append(date)\n",
        "\n",
        "df = pd.DataFrame({'기사제목': title_list, '본문url': url_list, '기사본문': article_list, '날짜': date_list})\n",
        "df.to_csv('article.csv', encoding = 'euc-kr')"
      ],
      "metadata": {
        "id": "nvdmReVUpAhd"
      },
      "execution_count": null,
      "outputs": []
    },
    {
      "cell_type": "code",
      "source": [
        "df.head()"
      ],
      "metadata": {
        "id": "umGN-4uRpNRN"
      },
      "execution_count": null,
      "outputs": []
    },
    {
      "cell_type": "markdown",
      "source": [
        "#워드클라우드 생성\n"
      ],
      "metadata": {
        "id": "KQHV2mxmsqL5"
      }
    },
    {
      "cell_type": "code",
      "source": [
        "# 한국어 텍스트 전처리를 위한 konlpy 패키지 설치\n",
        "!pip install konlpy"
      ],
      "metadata": {
        "id": "3YFTYm3_pPP-"
      },
      "execution_count": null,
      "outputs": []
    },
    {
      "cell_type": "code",
      "source": [
        "# 한글 폰트(나눔 폰트) 설치\n",
        "!sudo apt-get install -y fonts-nanum"
      ],
      "metadata": {
        "id": "BRr_UYdhsvEc"
      },
      "execution_count": null,
      "outputs": []
    },
    {
      "cell_type": "code",
      "source": [
        "# 워드 클라우드를 만들기 위한 작업\n",
        "import matplotlib.pyplot as plt\n",
        "from collections import Counter\n",
        "from konlpy.tag import Okt\n",
        "\n",
        "article = df['기사본문'][0]\n",
        "article"
      ],
      "metadata": {
        "id": "YPodUn2JsvUi"
      },
      "execution_count": null,
      "outputs": []
    },
    {
      "cell_type": "code",
      "source": [
        "# 기사의 내용을 토큰으로 만들기\n",
        "okt = Okt()\n",
        "tokens = okt.nouns(article)\n",
        "counted_tokens = Counter(tokens)\n",
        "top_20 = counted_tokens.most_common(20)\n",
        "print(top_20)"
      ],
      "metadata": {
        "id": "ncT18cqUs3UT"
      },
      "execution_count": null,
      "outputs": []
    },
    {
      "cell_type": "code",
      "source": [
        "from wordcloud import WordCloud\n",
        "wc = WordCloud(background_color='white', font_path='NanumBarunGothic.ttf')\n",
        "wc.generate_from_frequencies(counted_tokens)\n",
        "figure = plt.figure()\n",
        "figure.set_size_inches(10, 10)\n",
        "ax = figure.add_subplot(1, 1, 1)\n",
        "ax.axis(\"off\")\n",
        "ax.imshow(wc)"
      ],
      "metadata": {
        "id": "0ACgE2A8s5AK"
      },
      "execution_count": null,
      "outputs": []
    },
    {
      "cell_type": "code",
      "source": [],
      "metadata": {
        "id": "5UzDJyDks7L6"
      },
      "execution_count": null,
      "outputs": []
    }
  ]
}